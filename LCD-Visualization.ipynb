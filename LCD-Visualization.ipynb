{
 "cells": [
  {
   "cell_type": "markdown",
   "metadata": {},
   "source": [
    "# Linear Collider Detector Calorimeter Data Visualization\n"
   ]
  },
  {
   "cell_type": "markdown",
   "metadata": {},
   "source": [
    "**Calorimetry and the LCD Detector**\n",
    "\n",
    "In high energy physics, detectors are used to take 'images' of particles that may result from controlled particle collisions (such as the Large Hadron Collider), single beams of known particles (such as test beams or neutrino beams), or influxes of particles from natural sources (such as solar neutrinos). These images are taken by advanced technologies exploiting the different methods in which particles interact with matter. \n",
    "\n",
    "The calorimeter is one class of detectors that is used to capture (aka reconstruct) the energy of passing particles. This is done by using materials that the particles will interact with, essentially emitting energy in this exchange, and materials that can tell us the amount of energy that is lost. Through consecutive processes of interactions and energy loss the goal is for particles to effectively stop in the material and for the reconstructed energy to be a measure of the initial energy of the particle.  For example in the ATLAS detector, one calorimeter system uses plates of steel (a dense material) to 'slow down and stop' the passing particles inside the calorimeter, alternating with plates of plastic scintillator that ionize as these high energy particles pass. The photons emitted during the ionization process are collected onto photomultiplier tubes which convert the photon into an electrical signal representative of the lost energy. As particles interact with the calorimeter showers of secondary particles are produced, themselves interacting with the material, and so on. In particle physics experiments the purpose of the calorimeter is to precisely reconstruct the energy and identification of initial particle initiating this shower.      \n",
    "One potential future high energy physics experiment is an electron-positron linear collider. R&D is underway to design and build that accelerator facility and associated detectors. The linear collider detector (LCD) is one of these proposed detectors. The LCD design includes the standard components including inner tracking detectors, calorimeters, and outer tracking systems. \n",
    "\n",
    "In this analysis we will use simulations of the LCD calorimeter system, made up of an electromagnetic calorimeter (ECAL) and hadronic calorimeter (HCAL). The ECAL aims to fully reconstruct the energy from electrons, positrons, and photons, and to measure the initial energy of showers initiated by hadrons. The ECAL is highly granular (in this simulation broken down into 25x25x25 cells) to help differentiate between electron (positron) and photon particles by properties of their shower developments, and to help identify incoming photons that converted into electron-position pairs. The HCAL is highly granular along the longitudinal direction (in this simulation separated into 5x5x60 cells), giving more information about the longitudinal development of hadronic showers. The LCD calorimeters are non-compensating, meaning there are ways in which hadrons lose energy in the interactions that are not captured in the reconstruction of the electrical signal. Hence downstream software corrections must be applied to hadron showers to accurately reconstuct the initial hadron energy. The amount of the correction depends on several factors, including the initial particle energy and type. "
   ]
  },
  {
   "cell_type": "markdown",
   "metadata": {},
   "source": [
    "**The LCD Dataset**\n",
    "\n",
    "In this example simulated particles of either electrons, photons, neutral pions, or charged pions are shot directly into the LCD calorimeter systems. The cell level information (physical positions, energy deposited) is saved for the ECAL (25x25x25) and HCAL (5x5x60), thus saving a 3D image for each 'event' (event = single particle). The goal is to study the use of deep learning methods to improve the identification and reconstruction of these particles.   \n",
    "\n",
    "The dataset is divided into four directories, each storing a large number of h5 files that hold images for one specific particle type. During training, our tools will appropriate mix and label this dataset. For this visualization exercise, we will use a premixed single 22 GB. Let's start by opening the dataset and explore its contents:\n",
    "\n",
    "(Running in Jupyter Notebooks: click on the box below and hit shift-enter.)\n"
   ]
  },
  {
   "cell_type": "code",
   "execution_count": 1,
   "metadata": {},
   "outputs": [
    {
     "name": "stdout",
     "output_type": "stream",
     "text": [
      "ECAL (3211264, 25, 25, 25)\n",
      "HCAL (3211264, 5, 5, 60)\n",
      "OneHot (3211264, 4)\n",
      "index (3211264,)\n",
      "target (3211264, 1, 5)\n"
     ]
    }
   ],
   "source": [
    "import os\n",
    "import sys\n",
    "import h5py\n",
    "\n",
    "FileName='/data/LCD/LCD-Merged-All.h5'\n",
    "\n",
    "file = h5py.File(FileName, 'r')\n",
    "\n",
    "for k in file.keys():\n",
    "    try:\n",
    "        print k,file[k].shape\n",
    "    except:\n",
    "        print k,\"Not a tensor\"\n",
    "\n",
    "    \n",
    "#file.close()"
   ]
  },
  {
   "cell_type": "markdown",
   "metadata": {},
   "source": [
    "The output shows there are 3211264 events, which will require several hundred GB of RAM to load into memory. The ECAL and HCAL are as described above. The groups \"index\" and \"OneHot\" encode the four particle types as an index or 4 \"bits\". \"target\" holds the true energy of the particle."
   ]
  },
  {
   "cell_type": "markdown",
   "metadata": {
    "collapsed": true
   },
   "source": [
    "**The Classification Problem**\n",
    "\n",
    "One function of the LCD calorimeter is to efficiently distinguish between different particle types so reconstruction software can apply the appropriate energy correction factors. We can examine by-eye the properties of the four different particles provided in our simulated dataset.\n",
    "\n",
    "The script below reads in the LCD dataset and attempts to visualize the 3D images of one electron and one pion event to show how qualitatively these appear differently. Instead of plotting the 3D image, the images are plotted in 2D showing the cells in the x and y position. For fixed x and y values, the values for the energy deposted in each cell along the longitudinal direction (z) are summed and displayed in the 3rd axis. The color and size of a circle at a given x and y position represent the total amount of energy summed along the longitudinal direction. \n",
    "\n",
    "The ECAL is so highly granular that looping over the 25x25x25 tensor is too memory intensive, hence for this demonstrative visual purpose we are only considering 4x4x25 cells. For an actual analysis where access to GPUs is possible, one should consider the full tensor to maximize the classification ability.\n"
   ]
  },
  {
   "cell_type": "code",
   "execution_count": null,
   "metadata": {},
   "outputs": [
    {
     "name": "stdout",
     "output_type": "stream",
     "text": [
      "-- Starting LCD calorimeter event visualization --\n",
      "Found the following events to visualize:\n",
      "     Electron: evt# =  3"
     ]
    }
   ],
   "source": [
    "print \"-- Starting LCD calorimeter event visualization --\"\n",
    "\n",
    "import matplotlib.pyplot as plt\n",
    "%matplotlib inline\n",
    "import numpy as np\n",
    "\n",
    "#-- user settings\n",
    "minEnergy=400 # find electron and pion event with at least 400 GeV of energy\n",
    "#-- end user settings\n",
    "\n",
    "ecal = file[\"ECAL\"]\n",
    "hcal = file[\"HCAL\"]\n",
    "onehot = file[\"OneHot\"]\n",
    "index = file[\"index\"]\n",
    "target = file[\"target\"]\n",
    "\n",
    "#-- pick one event from each particle type and plot the ECAL and HCAL response maps\n",
    "\n",
    "# find the index of an *electron* event (with energy greater than the minimum value) and associated energy\n",
    "indexElEvt = -999\n",
    "energyElEvt = -999\n",
    "for evt in range(0,len(index)):\n",
    "    energy=target[evt][0][1]\n",
    "    if( (onehot[evt][1] ==1.0) and (energy > minEnergy)  ): \n",
    "        indexElEvt = evt\n",
    "        energyElEvt = energy\n",
    "        break # end for loop\n",
    "        \n",
    "# find the index of a *pion* event (with energy greater than the minimum value) \n",
    "indexPiEvt = -999\n",
    "energyPiEvt = -999\n",
    "for evt in range(0,len(index)):\n",
    "    energy = target[evt][0][1]\n",
    "    if( (onehot[evt][2] ==1.0) and ( energy > minEnergy) ):\n",
    "        indexPiEvt = evt\n",
    "        energyPiEvt = energy  \n",
    "        break # end for loop\n",
    "\n",
    "                \n",
    "print \"Found the following events to visualize:\"\n",
    "print \"     Electron: evt# = \", indexElEvt, \" energy = \", energyElEvt\n",
    "print \"     Pion    : evt# = \", indexPiEvt, \" energy = \", energyPiEvt\n",
    " \n",
    "# arguments:\n",
    "#   evtNum = event index\n",
    "#   ec=ecal, hc=hcal\n",
    "#   title= main title for both figures\n",
    "def PlotCalorimeters(evtNum, ec, hc, title):\n",
    "    # make two plots side-by-side showing ECAL and HCAL\n",
    "    # will collapse longitudinal layers into the scatter plot\n",
    "    # Note: plotting limited dimensions in Ecal (25x25x25 very slow)\n",
    "\n",
    "    #-- Fill arrays for plotting\n",
    "    # ECAL\n",
    "    sumZAxisEcal = []\n",
    "    xaxisEcal = []\n",
    "    yaxisEcal = []\n",
    "\n",
    "    startIndexEcal=10 #over x,y\n",
    "    endIndexEcal=14\n",
    "\n",
    "    for x in range(startIndexEcal,endIndexEcal):    \n",
    "        for y in range (startIndexEcal,endIndexEcal):\n",
    "            xaxisEcal.append(x)\n",
    "            yaxisEcal.append(y)\n",
    "            sumZEcal = 0\n",
    "            for z in range (0,24): # over all z\n",
    "                sumZEcal += ecal[evtNum,x,y,z] \n",
    "                # end for over z\n",
    "            sumZAxisEcal.append(sumZEcal)\n",
    "            #end for over y     \n",
    "        # end for over x\n",
    "\n",
    "\n",
    "    # HCAL\n",
    "    sumZAxisHcal = []\n",
    "    xaxisHcal = []\n",
    "    yaxisHcal = []\n",
    "\n",
    "    startIndexHcal=0 #over x,y\n",
    "    endIndexHcal=4\n",
    "\n",
    "    for x in range(startIndexHcal,endIndexHcal):  \n",
    "        for y in range (startIndexHcal,endIndexHcal):\n",
    "            xaxisHcal.append(x)\n",
    "            yaxisHcal.append(y)\n",
    "            sumZHcal = 0\n",
    "            for z in range (0,60): # over all z\n",
    "                sumZHcal += hcal[evtNum,x,y,z]\n",
    "                # end for over z\n",
    "            sumZAxisHcal.append(sumZHcal)\n",
    "            #end for over y     \n",
    "        # end for over x\n",
    "\n",
    "    #-- Plotting\n",
    "    from matplotlib.ticker import FormatStrFormatter\n",
    "\n",
    "    fig, (ax1, ax2) = plt.subplots(ncols=2)\n",
    "    plt.tight_layout(pad=1.0, w_pad=1.0, h_pad=1.0)\n",
    "\n",
    "    scatEcal = ax1.scatter(xaxisEcal,yaxisEcal,s=sumZAxisEcal,c=sumZAxisEcal )\n",
    "    fig.colorbar(scatEcal, ax=ax1,format='%.1f')\n",
    "    ax1.set_title('ECAL')\n",
    "    ax1.yaxis.set_major_formatter(FormatStrFormatter('%.1f'))\n",
    "    ax1.xaxis.set_major_formatter(FormatStrFormatter('%.1f'))\n",
    "    ax1.xaxis.set_ticks(np.arange(startIndexEcal, endIndexEcal, 1.0))\n",
    "    ax1.yaxis.set_ticks(np.arange(startIndexEcal, endIndexEcal, 1.0))\n",
    "\n",
    "    scatHcal = ax2.scatter(xaxisHcal,yaxisHcal,s=sumZAxisHcal,c=sumZAxisHcal )\n",
    "    fig.colorbar(scatHcal, ax=ax2,format='%.1f')\n",
    "    ax2.set_title('HCAL')\n",
    "    ax2.yaxis.set_major_formatter(FormatStrFormatter('%.1f'))\n",
    "    ax2.xaxis.set_major_formatter(FormatStrFormatter('%.1f'))\n",
    "    ax2.xaxis.set_ticks(np.arange(startIndexHcal, endIndexHcal, 1.0))\n",
    "    ax2.yaxis.set_ticks(np.arange(startIndexHcal, endIndexHcal, 1.0))\n",
    "\n",
    "    plt.suptitle(title,size=16)\n",
    "    plt.show()\n",
    "\n",
    "    \n",
    "PlotCalorimeters(indexElEvt, ecal, hcal, 'Electron')\n",
    "PlotCalorimeters(indexPiEvt, ecal, hcal, 'Pion')\n",
    "\n",
    "\n",
    "file.close()\n"
   ]
  },
  {
   "cell_type": "markdown",
   "metadata": {},
   "source": [
    "The figures on the top show the ECAL (left) and HCAL (right) energy deposits for an electron event. One can see that for even high energy electrons the bulk of the energy is deposited in the ECAL, with very litte in the HCAL. The bottom figures show the same ECAL and HCAL energy deposits for a pion event. In this case pions deposit energy in both the ECAL and HCAL. The electron and pion events above have similar initial energies. \n",
    "\n",
    "In general this behavior of electrons depositing most energy in the ECAL and "
   ]
  },
  {
   "cell_type": "markdown",
   "metadata": {},
   "source": [
    "It is not feasible to scan by-eye the calorimeter response, so instead algorithms are trained to classify the particle types. In this example we will study deep learning hyper-parameters to determine which parameters best classify these types of events in the LCD calorimeter. "
   ]
  }
 ],
 "metadata": {
  "kernelspec": {
   "display_name": "Python 2",
   "language": "python",
   "name": "python2"
  },
  "language_info": {
   "codemirror_mode": {
    "name": "ipython",
    "version": 2
   },
   "file_extension": ".py",
   "mimetype": "text/x-python",
   "name": "python",
   "nbconvert_exporter": "python",
   "pygments_lexer": "ipython2",
   "version": "2.7.12"
  }
 },
 "nbformat": 4,
 "nbformat_minor": 2
}
