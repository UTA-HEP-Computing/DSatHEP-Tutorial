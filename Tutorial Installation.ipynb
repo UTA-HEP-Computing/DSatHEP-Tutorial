{
 "cells": [
  {
   "cell_type": "markdown",
   "metadata": {},
   "source": [
    "# Tutorial Installation\n",
    "\n",
    "This notebook checks out the packages necessary for the tutorial. You will only need to run this notebook once.\n",
    "\n",
    "(To run in Jupyter Notebooks: click on the box below and hit shift-enter.)"
   ]
  },
  {
   "cell_type": "code",
   "execution_count": null,
   "metadata": {
    "collapsed": true
   },
   "outputs": [],
   "source": [
    "!mkdir Tutorial\n",
    "%cd Tutorial\n",
    "!git clone https://bitbucket.org/anomalousai/DLKit\n",
    "%cd DLKit\n",
    "!git clone https://github.com/UTA-HEP-Computing/CaloDNN\n",
    "!git clone https://github.com/UTA-HEP-Computing/NEXTDNN\n",
    "!git clone https://github.com/UTA-HEP-Computing/LArTPCDNN\n",
    "!git clone https://github.com/UTA-HEP-Computing/DSatHEP-Tutorial\n",
    "!cp DSatHEP-Tutorial/* ."
   ]
  }
 ],
 "metadata": {
  "kernelspec": {
   "display_name": "Python 2",
   "language": "python",
   "name": "python2"
  },
  "language_info": {
   "codemirror_mode": {
    "name": "ipython",
    "version": 2
   },
   "file_extension": ".py",
   "mimetype": "text/x-python",
   "name": "python",
   "nbconvert_exporter": "python",
   "pygments_lexer": "ipython2",
   "version": "2.7.12"
  }
 },
 "nbformat": 4,
 "nbformat_minor": 2
}
