{
 "cells": [
  {
   "cell_type": "markdown",
   "metadata": {},
   "source": [
    "# Tutorial Installation\n",
    "\n",
    "This notebook checks out the packages necessary for the tutorial. "
   ]
  },
  {
   "cell_type": "code",
   "execution_count": 1,
   "metadata": {},
   "outputs": [
    {
     "name": "stdout",
     "output_type": "stream",
     "text": [
      "Cloning into 'DLKit'...\n",
      "remote: Counting objects: 633, done.\u001b[K\n",
      "remote: Compressing objects: 100% (619/619), done.\u001b[K\n",
      "remote: Total 633 (delta 364), reused 0 (delta 0)\u001b[KMiB/s   \n",
      "Receiving objects: 100% (633/633), 27.41 MiB | 2.74 MiB/s, done.\n",
      "Resolving deltas: 100% (364/364), done.\n",
      "Checking connectivity... done.\n",
      "/home/afarbin/Tutorial/DLKit\n",
      "Cloning into 'CaloDNN'...\n",
      "remote: Counting objects: 339, done.\u001b[K\n",
      "remote: Compressing objects: 100% (9/9), done.\u001b[K\n",
      "remote: Total 339 (delta 2), reused 0 (delta 0), pack-reused 330\u001b[K\n",
      "Receiving objects: 100% (339/339), 4.18 MiB | 0 bytes/s, done.\n",
      "Resolving deltas: 100% (206/206), done.\n",
      "Checking connectivity... done.\n",
      "Cloning into 'NEXTDNN'...\n",
      "remote: Counting objects: 37, done.\u001b[K\n",
      "remote: Compressing objects: 100% (29/29), done.\u001b[K\n",
      "remote: Total 37 (delta 12), reused 32 (delta 7), pack-reused 0\u001b[K\n",
      "Unpacking objects: 100% (37/37), done.\n",
      "Checking connectivity... done.\n",
      "Cloning into 'LArTPCDNN'...\n",
      "remote: Counting objects: 93, done.\u001b[K\n",
      "remote: Compressing objects: 100% (58/58), done.\u001b[K\n",
      "remote: Total 93 (delta 44), reused 81 (delta 32), pack-reused 0\u001b[K\n",
      "Unpacking objects: 100% (93/93), done.\n",
      "Checking connectivity... done.\n"
     ]
    }
   ],
   "source": [
    "!git clone https://bitbucket.org/anomalousai/DLKit\n",
    "%cd DLKit\n",
    "!git clone https://github.com/UTA-HEP-Computing/CaloDNN\n",
    "!git clone https://github.com/UTA-HEP-Computing/NEXTDNN\n",
    "!git clone https://github.com/UTA-HEP-Computing/LArTPCDNN"
   ]
  },
  {
   "cell_type": "code",
   "execution_count": null,
   "metadata": {
    "collapsed": true
   },
   "outputs": [],
   "source": []
  }
 ],
 "metadata": {
  "kernelspec": {
   "display_name": "Python 2",
   "language": "python",
   "name": "python2"
  },
  "language_info": {
   "codemirror_mode": {
    "name": "ipython",
    "version": 2
   },
   "file_extension": ".py",
   "mimetype": "text/x-python",
   "name": "python",
   "nbconvert_exporter": "python",
   "pygments_lexer": "ipython2",
   "version": "2.7.12"
  }
 },
 "nbformat": 4,
 "nbformat_minor": 2
}
