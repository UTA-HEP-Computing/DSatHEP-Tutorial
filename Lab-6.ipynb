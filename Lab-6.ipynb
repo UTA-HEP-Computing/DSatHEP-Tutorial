{
 "cells": [
  {
   "cell_type": "markdown",
   "metadata": {},
   "source": [
    "# Lab 6\n",
    "\n",
    "This notebooks setups up DLKit and CaloDNN so you can run the lab. You should only this one."
   ]
  },
  {
   "cell_type": "code",
   "execution_count": null,
   "metadata": {
    "collapsed": false
   },
   "outputs": [],
   "source": [
    "!git clone https://bitbucket.org/anomalousai/DLKit\n",
    "%cd DLKit\n",
    "!git clone https://github.com/UTA-HEP-Computing/CaloDNN"
   ]
  },
  {
   "cell_type": "code",
   "execution_count": null,
   "metadata": {
    "collapsed": false
   },
   "outputs": [],
   "source": [
    "!git clone https://github.com/UTA-HEP-Computing/CaloDNN"
   ]
  },
  {
   "cell_type": "code",
   "execution_count": null,
   "metadata": {
    "collapsed": false
   },
   "outputs": [],
   "source": [
    "%ls"
   ]
  },
  {
   "cell_type": "markdown",
   "metadata": {},
   "source": [
    "# Lab Instructions\n",
    "\n",
    "After the installation above, copy `CaloDNN/Instructions.ipynb` into your DLKit directory and navigate Jupyter through it. Use this notebook as your reference. \n",
    "\n",
    "You task is to create a new model or the `CaloDNN` task and perform a hyperparameter scan of roughly 20 points, with jobs that run about 1 hour each. Then compare the performance of your models using the AnalyzeScan Jupyter example and analyze the performance of your best model using the AnalyzePerformance Jupyter example.\n",
    "\n"
   ]
  },
  {
   "cell_type": "code",
   "execution_count": null,
   "metadata": {
    "collapsed": true
   },
   "outputs": [],
   "source": [
    "!cp CaloDNN/Instructions.ipynb ."
   ]
  }
 ],
 "metadata": {
  "kernelspec": {
   "display_name": "Python 2",
   "language": "python",
   "name": "python2"
  },
  "language_info": {
   "codemirror_mode": {
    "name": "ipython",
    "version": 2
   },
   "file_extension": ".py",
   "mimetype": "text/x-python",
   "name": "python",
   "nbconvert_exporter": "python",
   "pygments_lexer": "ipython2",
   "version": "2.7.12"
  }
 },
 "nbformat": 4,
 "nbformat_minor": 2
}
