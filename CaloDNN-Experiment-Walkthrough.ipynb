{
 "cells": [
  {
   "cell_type": "markdown",
   "metadata": {},
   "source": [
    "# Calorimetry with DNNs\n",
    "\n",
    "The data from highly granular calorimeters can be viewed as 3D images, making them ideal for image classification problems. In this lab, we will apply image classification to simulated calorimeter data from the LCD detector concept for the CLIC accelerator. We will use the [CaloDNN](https://github.com/UTA-HEP-Computing/CaloDNN) package to systematically study different neural network architectures, optimizers, loss functions, and other hyperparameters.\n",
    "\n",
    "The data is compused of 4 particle types: electrons, neutral pions (pi0s), charged pions, and photons (gamma). The LCD calorimeter is composed of electromagnetic (ECAL) and hadronic (HCAL) sections. The simulation shoots a single particle into the calorimeter and stores a 25 by 25 by 25 cell part of the ECAL and 5 by 5 by 60 part of the HCAL around the particle. "
   ]
  },
  {
   "cell_type": "markdown",
   "metadata": {},
   "source": [
    "## CaloDNN\n",
    "\n",
    "CaloDNN is a DLKit based package for studying LCD Calorimetry with DNNs.\n",
    "\n",
    "The package consists of the following files:\n",
    "\n",
    "  **CaloDNN/ClassificationExperiment.py**: This is the “experiment” that drives everything.\n",
    "\n",
    "   **CaloDNN/ClassificationArguments.py**: This is the file where all of the above arguments are defined and parsed. You can add your own options here if need be. Some defaults are defined here.\n",
    "\n",
    "   **CaloDNN/ClassificationScanConfig.py**: This is the configuration file. The model and experiment parameters are set here. This example is setup to allow hyper-parameter scanning. It also contains the list of input files and maps the files and datasets to classes as well as controls what variables are used in the Neural Network.\n",
    "\n",
    "   **CaloDNN/Models.py**: This contains the Keras models, wrapped in a DLKit ModelWrapper class.\n",
    "\n",
    "   **CaloDNN/LCDData.py**: Contains the DLGenerators to read the data.\n",
    "   \n",
    "Typically we run these experiments from the shell command prompt (e.g. here getting help):\n",
    "\n",
    "    python -m CaloDNN.ClassificationExperiment --help\n",
    "    \n",
    "But we can also do it in our current Jupyter session as follows:\n"
   ]
  },
  {
   "cell_type": "code",
   "execution_count": 4,
   "metadata": {},
   "outputs": [
    {
     "name": "stdout",
     "output_type": "stream",
     "text": [
      "usage: ClassificationExperiment.py [-h] [-C CONFIG] [-L LOADMODEL]\n",
      "                                   [--gpu GPUID] [--cpu] [--NoTrain]\n",
      "                                   [--NoAnalysis] [--LowMem] [--Test]\n",
      "                                   [--Recover] [-s HYPERPARAMSET] [--nopremix]\n",
      "                                   [--preload] [-r RUNNINGTIME] [-p]\n",
      "                                   [--GracefulExit]\n",
      "\n",
      "optional arguments:\n",
      "  -h, --help            show this help message and exit\n",
      "  -C CONFIG, --config CONFIG\n",
      "                        Use specified configuration file.\n",
      "  -L LOADMODEL, --LoadModel LOADMODEL\n",
      "                        Loads a model from specified directory.\n",
      "  --gpu GPUID           Use specified GPU.\n",
      "  --cpu                 Use CPU.\n",
      "  --NoTrain             Do not run training.\n",
      "  --NoAnalysis          Do not run analysis.\n",
      "  --LowMem              Minimize Memory Usage.\n",
      "  --Test                Run in test mode (reduced examples and epochs).\n",
      "  --Recover             Train only if fail to load model (use with --NoTrain\n",
      "                        and --Load or --LoadPrevious).\n",
      "  -s HYPERPARAMSET, --hyperparamset HYPERPARAMSET\n",
      "                        Use specificed (by index) hyperparameter set.\n",
      "  --nopremix            Do not use the premixed inputfile. Mix on the fly.\n",
      "  --preload             Preload the data into memory. Caution: requires lots\n",
      "                        of memory.\n",
      "  -r RUNNINGTIME, --runningtime RUNNINGTIME\n",
      "                        End training after specified number of seconds.\n",
      "  -p, --LoadPrevious    Load the last trained model.\n",
      "  --GracefulExit        Enable graceful exit via Ctrl-C or SIGTERM signal.\n"
     ]
    }
   ],
   "source": [
    "%run -im CaloDNN.ClassificationExperiment -- --help"
   ]
  },
  {
   "cell_type": "markdown",
   "metadata": {},
   "source": [
    "The experiment has 4 steps:\n",
    "\n",
    "    1. Setup Loading Data\n",
    "    2. Load or Build Model\n",
    "    3. Train Model\n",
    "    4. Run Analysis \n",
    "\n",
    "You can turn off steps as needed using the flags above. \n",
    "\n",
    "You can run a quick test (reduced number of events and epochs) as follows:"
   ]
  },
  {
   "cell_type": "code",
   "execution_count": null,
   "metadata": {},
   "outputs": [
    {
     "name": "stdout",
     "output_type": "stream",
     "text": [
      "Using GPU 0\n",
      "HyperParameter Scan:  240 possible combiniations.\n",
      "______________________________________\n",
      "ScanConfiguration\n",
      "______________________________________\n",
      "Picked combination:  0\n",
      "Combo[0]={'Width': 32, 'Depth': 1, 'lr': 0.01, 'optimizer': \"'RMSprop'\", 'decay': 0.01}\n",
      "Model Filename:  CaloDNN_32_1_0.01_RMSprop_0.01\n",
      "______________________________________\n",
      "Test Mode: Set MaxEvents to 20000 and Epochs to 10\n",
      "Using PremixGenerator.\n",
      "Looking for Previous Model to load.\n",
      "Loading Previous Model From: TrainedModels.Test/CaloDNN_32_1_0.01_RMSprop_0.01_Merged\n",
      "Output Directory: TrainedModels.Test/CaloDNN_32_1_0.01_RMSprop_0.01_Merged.1\n",
      "____________________________________________________________________________________________________\n",
      "Layer (type)                     Output Shape          Param #     Connected to                     \n",
      "====================================================================================================\n",
      "input_1 (InputLayer)             (None, 25, 25, 25)    0                                            \n",
      "____________________________________________________________________________________________________\n",
      "input_2 (InputLayer)             (None, 5, 5, 60)      0                                            \n",
      "____________________________________________________________________________________________________\n",
      "flatten_1 (Flatten)              (None, 15625)         0                                            \n",
      "____________________________________________________________________________________________________\n",
      "flatten_2 (Flatten)              (None, 1500)          0                                            \n",
      "____________________________________________________________________________________________________\n",
      "activation_1 (Activation)        (None, 15625)         0                                            \n",
      "____________________________________________________________________________________________________\n",
      "activation_3 (Activation)        (None, 1500)          0                                            \n",
      "____________________________________________________________________________________________________\n",
      "batch_normalization_1 (BatchNorm (None, 15625)         62500                                        \n",
      "____________________________________________________________________________________________________\n",
      "batch_normalization_2 (BatchNorm (None, 1500)          6000                                         \n",
      "____________________________________________________________________________________________________\n",
      "dense_1 (Dense)                  (None, 32)            500032                                       \n",
      "____________________________________________________________________________________________________\n",
      "dense_2 (Dense)                  (None, 32)            48032                                        \n",
      "____________________________________________________________________________________________________\n",
      "activation_2 (Activation)        (None, 32)            0                                            \n",
      "____________________________________________________________________________________________________\n",
      "activation_4 (Activation)        (None, 32)            0                                            \n",
      "____________________________________________________________________________________________________\n",
      "dropout_1 (Dropout)              (None, 32)            0                                            \n",
      "____________________________________________________________________________________________________\n",
      "dropout_2 (Dropout)              (None, 32)            0                                            \n",
      "____________________________________________________________________________________________________\n",
      "concatenate_1 (Concatenate)      (None, 64)            0                                            \n",
      "____________________________________________________________________________________________________\n",
      "dense_3 (Dense)                  (None, 4)             260                                          \n",
      "====================================================================================================\n",
      "Total params: 616,824.0\n",
      "Trainable params: 582,574.0\n",
      "Non-trainable params: 34,250.0\n",
      "____________________________________________________________________________________________________\n",
      "Compiling Model.\n",
      "Warning: optimizer configuration parameter epsilon was not set in configuration file. Will use default.\n",
      "Warning: optimizer configuration parameter rho was not set in configuration file. Will use default.\n",
      "Training.\n",
      "Setting Runningtime to 7200 .\n",
      "Evaluating score on test sample...\n"
     ]
    }
   ],
   "source": [
    "%run -im CaloDNN.ClassificationExperiment -- --Test"
   ]
  },
  {
   "cell_type": "markdown",
   "metadata": {},
   "source": [
    "### Configuration and Hyperparameter Scanning\n",
    "\n",
    "Our DNN architecture is defined by the types, number, and dimension of layers. Hyper-parameter\n",
    "scanning refers to the process of searching for an optimal architecture that performs well for a\n",
    "task and can be trained and applied within reasonable time. Beyond the parameters that define the\n",
    "DNN architecture, other configuration parameters allow setting and testing activation and cost\n",
    "functions, optimization (e.g. minimization) techniques, and rate other training parameters.\n",
    "\n",
    "In DLKit, these parameters are set in a configuration file, which defines a single python key/value\n",
    "dictionary called **Config**. DLKit puts the contents of this dictionary in the global scope with the\n",
    "keys as the variable names. As an example, see `CaloDNN/ClassificationScanConfig.py`:\n",
    "\n",
    "```\n",
    "Config={\n",
    "    \"MaxEvents\":int(3.e6),\n",
    "    \"NTestSamples\":100000,\n",
    "    \"NClasses\":4,\n",
    "\n",
    "    \"Epochs\":1000,\n",
    "    \"BatchSize\":1024,\n",
    "\n",
    "...\n",
    "\n",
    "    # Configure Running time callback\n",
    "    # Set RunningTime to a value to stop training after N seconds.\n",
    "    \"RunningTime\": 2*3600,\n",
    "\n",
    "    # Load last trained version of this model configuration. (based on Name var below)\n",
    "    \"LoadPreviousModel\":True\n",
    "    }\n",
    "```\n",
    "\n",
    "These parameters are fixed and will be used by the Experiment to build the model. \n",
    "\n",
    "An important parameter in this configuration file is the `RunningTime`, which sets duration of the training. Using this parameter, you can train a model for a fix amount of time. You can rerun the job to continue training, which will automatically load the last successful training session, as set by `LoadPreviousModel` parameter.\n",
    "\n",
    "[`CaloDNN/ClassificationScanConfig.py`](https://github.com/UTA-HEP-Computing/CaloDNN/blob/master/ClassificationScanConfig.py) is well commented. We suggest you read through the comments.\n",
    "\n",
    "For hyper-parameter scanning, it would be cumbersome to generate a new configuration file for every\n",
    "network we would like to try. Instead, **ScanConfig.py** uses a second dictionary  to specify\n",
    "parameters that you would like to scan, and the **DLTools.Permutator** class to generate all possible\n",
    "resulting configurations. For example the following lines:\n",
    "\n",
    "```\n",
    "# Parameters to scan and their scan points.\n",
    "Params={    \"optimizer\":[\"'RMSprop'\",\"'Adam'\",\"'SGD'\"],\n",
    "            \"Width\":[32,64,128,256,512],\n",
    "            \"Depth\":range(1,5),\n",
    "            \"lr\":[0.01,0.001],\n",
    "            \"decay\":[0.01,0.001],\n",
    "          }\n",
    " ```\n",
    "\n",
    "will generate 3 x 5 x 4 x 2 x 2 = 240 different configurations, which we can enumerate through. To check, we can\n",
    "simply run the **ClassificationScanConfig.py** file:"
   ]
  },
  {
   "cell_type": "code",
   "execution_count": 1,
   "metadata": {},
   "outputs": [
    {
     "name": "stdout",
     "output_type": "stream",
     "text": [
      "HyperParameter Scan:  240 possible combiniations.\n",
      "Combo[0]={'Width': 32, 'Depth': 1, 'lr': 0.01, 'optimizer': \"'RMSprop'\", 'decay': 0.01}\n",
      "Combo[1]={'Width': 32, 'Depth': 1, 'lr': 0.01, 'optimizer': \"'Adam'\", 'decay': 0.01}\n",
      "Combo[2]={'Width': 32, 'Depth': 1, 'lr': 0.01, 'optimizer': \"'SGD'\", 'decay': 0.01}\n",
      "Combo[3]={'Width': 32, 'Depth': 1, 'lr': 0.001, 'optimizer': \"'RMSprop'\", 'decay': 0.01}\n",
      "Combo[4]={'Width': 32, 'Depth': 1, 'lr': 0.001, 'optimizer': \"'Adam'\", 'decay': 0.01}\n",
      "Combo[5]={'Width': 32, 'Depth': 1, 'lr': 0.001, 'optimizer': \"'SGD'\", 'decay': 0.01}\n",
      "Combo[6]={'Width': 32, 'Depth': 1, 'lr': 0.01, 'optimizer': \"'RMSprop'\", 'decay': 0.001}\n",
      "Combo[7]={'Width': 32, 'Depth': 1, 'lr': 0.01, 'optimizer': \"'Adam'\", 'decay': 0.001}\n",
      "Combo[8]={'Width': 32, 'Depth': 1, 'lr': 0.01, 'optimizer': \"'SGD'\", 'decay': 0.001}\n",
      "Combo[9]={'Width': 32, 'Depth': 1, 'lr': 0.001, 'optimizer': \"'RMSprop'\", 'decay': 0.001}\n",
      "Combo[10]={'Width': 32, 'Depth': 1, 'lr': 0.001, 'optimizer': \"'Adam'\", 'decay': 0.001}\n",
      "Combo[11]={'Width': 32, 'Depth': 1, 'lr': 0.001, 'optimizer': \"'SGD'\", 'decay': 0.001}\n",
      "Combo[12]={'Width': 64, 'Depth': 1, 'lr': 0.01, 'optimizer': \"'RMSprop'\", 'decay': 0.01}\n",
      "Combo[13]={'Width': 64, 'Depth': 1, 'lr': 0.01, 'optimizer': \"'Adam'\", 'decay': 0.01}\n",
      "Combo[14]={'Width': 64, 'Depth': 1, 'lr': 0.01, 'optimizer': \"'SGD'\", 'decay': 0.01}\n",
      "Combo[15]={'Width': 64, 'Depth': 1, 'lr': 0.001, 'optimizer': \"'RMSprop'\", 'decay': 0.01}\n",
      "Combo[16]={'Width': 64, 'Depth': 1, 'lr': 0.001, 'optimizer': \"'Adam'\", 'decay': 0.01}\n",
      "Combo[17]={'Width': 64, 'Depth': 1, 'lr': 0.001, 'optimizer': \"'SGD'\", 'decay': 0.01}\n",
      "Combo[18]={'Width': 64, 'Depth': 1, 'lr': 0.01, 'optimizer': \"'RMSprop'\", 'decay': 0.001}\n",
      "Combo[19]={'Width': 64, 'Depth': 1, 'lr': 0.01, 'optimizer': \"'Adam'\", 'decay': 0.001}\n",
      "Combo[20]={'Width': 64, 'Depth': 1, 'lr': 0.01, 'optimizer': \"'SGD'\", 'decay': 0.001}\n",
      "Combo[21]={'Width': 64, 'Depth': 1, 'lr': 0.001, 'optimizer': \"'RMSprop'\", 'decay': 0.001}\n",
      "Combo[22]={'Width': 64, 'Depth': 1, 'lr': 0.001, 'optimizer': \"'Adam'\", 'decay': 0.001}\n",
      "Combo[23]={'Width': 64, 'Depth': 1, 'lr': 0.001, 'optimizer': \"'SGD'\", 'decay': 0.001}\n",
      "Combo[24]={'Width': 128, 'Depth': 1, 'lr': 0.01, 'optimizer': \"'RMSprop'\", 'decay': 0.01}\n",
      "Combo[25]={'Width': 128, 'Depth': 1, 'lr': 0.01, 'optimizer': \"'Adam'\", 'decay': 0.01}\n",
      "Combo[26]={'Width': 128, 'Depth': 1, 'lr': 0.01, 'optimizer': \"'SGD'\", 'decay': 0.01}\n",
      "Combo[27]={'Width': 128, 'Depth': 1, 'lr': 0.001, 'optimizer': \"'RMSprop'\", 'decay': 0.01}\n",
      "Combo[28]={'Width': 128, 'Depth': 1, 'lr': 0.001, 'optimizer': \"'Adam'\", 'decay': 0.01}\n",
      "Combo[29]={'Width': 128, 'Depth': 1, 'lr': 0.001, 'optimizer': \"'SGD'\", 'decay': 0.01}\n",
      "Combo[30]={'Width': 128, 'Depth': 1, 'lr': 0.01, 'optimizer': \"'RMSprop'\", 'decay': 0.001}\n",
      "Combo[31]={'Width': 128, 'Depth': 1, 'lr': 0.01, 'optimizer': \"'Adam'\", 'decay': 0.001}\n",
      "Combo[32]={'Width': 128, 'Depth': 1, 'lr': 0.01, 'optimizer': \"'SGD'\", 'decay': 0.001}\n",
      "Combo[33]={'Width': 128, 'Depth': 1, 'lr': 0.001, 'optimizer': \"'RMSprop'\", 'decay': 0.001}\n",
      "Combo[34]={'Width': 128, 'Depth': 1, 'lr': 0.001, 'optimizer': \"'Adam'\", 'decay': 0.001}\n",
      "Combo[35]={'Width': 128, 'Depth': 1, 'lr': 0.001, 'optimizer': \"'SGD'\", 'decay': 0.001}\n",
      "Combo[36]={'Width': 256, 'Depth': 1, 'lr': 0.01, 'optimizer': \"'RMSprop'\", 'decay': 0.01}\n",
      "Combo[37]={'Width': 256, 'Depth': 1, 'lr': 0.01, 'optimizer': \"'Adam'\", 'decay': 0.01}\n",
      "Combo[38]={'Width': 256, 'Depth': 1, 'lr': 0.01, 'optimizer': \"'SGD'\", 'decay': 0.01}\n",
      "Combo[39]={'Width': 256, 'Depth': 1, 'lr': 0.001, 'optimizer': \"'RMSprop'\", 'decay': 0.01}\n",
      "Combo[40]={'Width': 256, 'Depth': 1, 'lr': 0.001, 'optimizer': \"'Adam'\", 'decay': 0.01}\n",
      "Combo[41]={'Width': 256, 'Depth': 1, 'lr': 0.001, 'optimizer': \"'SGD'\", 'decay': 0.01}\n",
      "Combo[42]={'Width': 256, 'Depth': 1, 'lr': 0.01, 'optimizer': \"'RMSprop'\", 'decay': 0.001}\n",
      "Combo[43]={'Width': 256, 'Depth': 1, 'lr': 0.01, 'optimizer': \"'Adam'\", 'decay': 0.001}\n",
      "Combo[44]={'Width': 256, 'Depth': 1, 'lr': 0.01, 'optimizer': \"'SGD'\", 'decay': 0.001}\n",
      "Combo[45]={'Width': 256, 'Depth': 1, 'lr': 0.001, 'optimizer': \"'RMSprop'\", 'decay': 0.001}\n",
      "Combo[46]={'Width': 256, 'Depth': 1, 'lr': 0.001, 'optimizer': \"'Adam'\", 'decay': 0.001}\n",
      "Combo[47]={'Width': 256, 'Depth': 1, 'lr': 0.001, 'optimizer': \"'SGD'\", 'decay': 0.001}\n",
      "Combo[48]={'Width': 512, 'Depth': 1, 'lr': 0.01, 'optimizer': \"'RMSprop'\", 'decay': 0.01}\n",
      "Combo[49]={'Width': 512, 'Depth': 1, 'lr': 0.01, 'optimizer': \"'Adam'\", 'decay': 0.01}\n",
      "Combo[50]={'Width': 512, 'Depth': 1, 'lr': 0.01, 'optimizer': \"'SGD'\", 'decay': 0.01}\n",
      "Combo[51]={'Width': 512, 'Depth': 1, 'lr': 0.001, 'optimizer': \"'RMSprop'\", 'decay': 0.01}\n",
      "Combo[52]={'Width': 512, 'Depth': 1, 'lr': 0.001, 'optimizer': \"'Adam'\", 'decay': 0.01}\n",
      "Combo[53]={'Width': 512, 'Depth': 1, 'lr': 0.001, 'optimizer': \"'SGD'\", 'decay': 0.01}\n",
      "Combo[54]={'Width': 512, 'Depth': 1, 'lr': 0.01, 'optimizer': \"'RMSprop'\", 'decay': 0.001}\n",
      "Combo[55]={'Width': 512, 'Depth': 1, 'lr': 0.01, 'optimizer': \"'Adam'\", 'decay': 0.001}\n",
      "Combo[56]={'Width': 512, 'Depth': 1, 'lr': 0.01, 'optimizer': \"'SGD'\", 'decay': 0.001}\n",
      "Combo[57]={'Width': 512, 'Depth': 1, 'lr': 0.001, 'optimizer': \"'RMSprop'\", 'decay': 0.001}\n",
      "Combo[58]={'Width': 512, 'Depth': 1, 'lr': 0.001, 'optimizer': \"'Adam'\", 'decay': 0.001}\n",
      "Combo[59]={'Width': 512, 'Depth': 1, 'lr': 0.001, 'optimizer': \"'SGD'\", 'decay': 0.001}\n",
      "Combo[60]={'Width': 32, 'Depth': 2, 'lr': 0.01, 'optimizer': \"'RMSprop'\", 'decay': 0.01}\n",
      "Combo[61]={'Width': 32, 'Depth': 2, 'lr': 0.01, 'optimizer': \"'Adam'\", 'decay': 0.01}\n",
      "Combo[62]={'Width': 32, 'Depth': 2, 'lr': 0.01, 'optimizer': \"'SGD'\", 'decay': 0.01}\n",
      "Combo[63]={'Width': 32, 'Depth': 2, 'lr': 0.001, 'optimizer': \"'RMSprop'\", 'decay': 0.01}\n",
      "Combo[64]={'Width': 32, 'Depth': 2, 'lr': 0.001, 'optimizer': \"'Adam'\", 'decay': 0.01}\n",
      "Combo[65]={'Width': 32, 'Depth': 2, 'lr': 0.001, 'optimizer': \"'SGD'\", 'decay': 0.01}\n",
      "Combo[66]={'Width': 32, 'Depth': 2, 'lr': 0.01, 'optimizer': \"'RMSprop'\", 'decay': 0.001}\n",
      "Combo[67]={'Width': 32, 'Depth': 2, 'lr': 0.01, 'optimizer': \"'Adam'\", 'decay': 0.001}\n",
      "Combo[68]={'Width': 32, 'Depth': 2, 'lr': 0.01, 'optimizer': \"'SGD'\", 'decay': 0.001}\n",
      "Combo[69]={'Width': 32, 'Depth': 2, 'lr': 0.001, 'optimizer': \"'RMSprop'\", 'decay': 0.001}\n",
      "Combo[70]={'Width': 32, 'Depth': 2, 'lr': 0.001, 'optimizer': \"'Adam'\", 'decay': 0.001}\n",
      "Combo[71]={'Width': 32, 'Depth': 2, 'lr': 0.001, 'optimizer': \"'SGD'\", 'decay': 0.001}\n",
      "Combo[72]={'Width': 64, 'Depth': 2, 'lr': 0.01, 'optimizer': \"'RMSprop'\", 'decay': 0.01}\n",
      "Combo[73]={'Width': 64, 'Depth': 2, 'lr': 0.01, 'optimizer': \"'Adam'\", 'decay': 0.01}\n",
      "Combo[74]={'Width': 64, 'Depth': 2, 'lr': 0.01, 'optimizer': \"'SGD'\", 'decay': 0.01}\n",
      "Combo[75]={'Width': 64, 'Depth': 2, 'lr': 0.001, 'optimizer': \"'RMSprop'\", 'decay': 0.01}\n",
      "Combo[76]={'Width': 64, 'Depth': 2, 'lr': 0.001, 'optimizer': \"'Adam'\", 'decay': 0.01}\n",
      "Combo[77]={'Width': 64, 'Depth': 2, 'lr': 0.001, 'optimizer': \"'SGD'\", 'decay': 0.01}\n",
      "Combo[78]={'Width': 64, 'Depth': 2, 'lr': 0.01, 'optimizer': \"'RMSprop'\", 'decay': 0.001}\n",
      "Combo[79]={'Width': 64, 'Depth': 2, 'lr': 0.01, 'optimizer': \"'Adam'\", 'decay': 0.001}\n",
      "Combo[80]={'Width': 64, 'Depth': 2, 'lr': 0.01, 'optimizer': \"'SGD'\", 'decay': 0.001}\n",
      "Combo[81]={'Width': 64, 'Depth': 2, 'lr': 0.001, 'optimizer': \"'RMSprop'\", 'decay': 0.001}\n",
      "Combo[82]={'Width': 64, 'Depth': 2, 'lr': 0.001, 'optimizer': \"'Adam'\", 'decay': 0.001}\n",
      "Combo[83]={'Width': 64, 'Depth': 2, 'lr': 0.001, 'optimizer': \"'SGD'\", 'decay': 0.001}\n",
      "Combo[84]={'Width': 128, 'Depth': 2, 'lr': 0.01, 'optimizer': \"'RMSprop'\", 'decay': 0.01}\n",
      "Combo[85]={'Width': 128, 'Depth': 2, 'lr': 0.01, 'optimizer': \"'Adam'\", 'decay': 0.01}\n",
      "Combo[86]={'Width': 128, 'Depth': 2, 'lr': 0.01, 'optimizer': \"'SGD'\", 'decay': 0.01}\n",
      "Combo[87]={'Width': 128, 'Depth': 2, 'lr': 0.001, 'optimizer': \"'RMSprop'\", 'decay': 0.01}\n",
      "Combo[88]={'Width': 128, 'Depth': 2, 'lr': 0.001, 'optimizer': \"'Adam'\", 'decay': 0.01}\n",
      "Combo[89]={'Width': 128, 'Depth': 2, 'lr': 0.001, 'optimizer': \"'SGD'\", 'decay': 0.01}\n",
      "Combo[90]={'Width': 128, 'Depth': 2, 'lr': 0.01, 'optimizer': \"'RMSprop'\", 'decay': 0.001}\n",
      "Combo[91]={'Width': 128, 'Depth': 2, 'lr': 0.01, 'optimizer': \"'Adam'\", 'decay': 0.001}\n",
      "Combo[92]={'Width': 128, 'Depth': 2, 'lr': 0.01, 'optimizer': \"'SGD'\", 'decay': 0.001}\n",
      "Combo[93]={'Width': 128, 'Depth': 2, 'lr': 0.001, 'optimizer': \"'RMSprop'\", 'decay': 0.001}\n",
      "Combo[94]={'Width': 128, 'Depth': 2, 'lr': 0.001, 'optimizer': \"'Adam'\", 'decay': 0.001}\n",
      "Combo[95]={'Width': 128, 'Depth': 2, 'lr': 0.001, 'optimizer': \"'SGD'\", 'decay': 0.001}\n",
      "Combo[96]={'Width': 256, 'Depth': 2, 'lr': 0.01, 'optimizer': \"'RMSprop'\", 'decay': 0.01}\n",
      "Combo[97]={'Width': 256, 'Depth': 2, 'lr': 0.01, 'optimizer': \"'Adam'\", 'decay': 0.01}\n",
      "Combo[98]={'Width': 256, 'Depth': 2, 'lr': 0.01, 'optimizer': \"'SGD'\", 'decay': 0.01}\n",
      "Combo[99]={'Width': 256, 'Depth': 2, 'lr': 0.001, 'optimizer': \"'RMSprop'\", 'decay': 0.01}\n",
      "Combo[100]={'Width': 256, 'Depth': 2, 'lr': 0.001, 'optimizer': \"'Adam'\", 'decay': 0.01}\n",
      "Combo[101]={'Width': 256, 'Depth': 2, 'lr': 0.001, 'optimizer': \"'SGD'\", 'decay': 0.01}\n",
      "Combo[102]={'Width': 256, 'Depth': 2, 'lr': 0.01, 'optimizer': \"'RMSprop'\", 'decay': 0.001}\n",
      "Combo[103]={'Width': 256, 'Depth': 2, 'lr': 0.01, 'optimizer': \"'Adam'\", 'decay': 0.001}\n",
      "Combo[104]={'Width': 256, 'Depth': 2, 'lr': 0.01, 'optimizer': \"'SGD'\", 'decay': 0.001}\n",
      "Combo[105]={'Width': 256, 'Depth': 2, 'lr': 0.001, 'optimizer': \"'RMSprop'\", 'decay': 0.001}\n",
      "Combo[106]={'Width': 256, 'Depth': 2, 'lr': 0.001, 'optimizer': \"'Adam'\", 'decay': 0.001}\n",
      "Combo[107]={'Width': 256, 'Depth': 2, 'lr': 0.001, 'optimizer': \"'SGD'\", 'decay': 0.001}\n",
      "Combo[108]={'Width': 512, 'Depth': 2, 'lr': 0.01, 'optimizer': \"'RMSprop'\", 'decay': 0.01}\n",
      "Combo[109]={'Width': 512, 'Depth': 2, 'lr': 0.01, 'optimizer': \"'Adam'\", 'decay': 0.01}\n",
      "Combo[110]={'Width': 512, 'Depth': 2, 'lr': 0.01, 'optimizer': \"'SGD'\", 'decay': 0.01}\n",
      "Combo[111]={'Width': 512, 'Depth': 2, 'lr': 0.001, 'optimizer': \"'RMSprop'\", 'decay': 0.01}\n",
      "Combo[112]={'Width': 512, 'Depth': 2, 'lr': 0.001, 'optimizer': \"'Adam'\", 'decay': 0.01}\n",
      "Combo[113]={'Width': 512, 'Depth': 2, 'lr': 0.001, 'optimizer': \"'SGD'\", 'decay': 0.01}\n",
      "Combo[114]={'Width': 512, 'Depth': 2, 'lr': 0.01, 'optimizer': \"'RMSprop'\", 'decay': 0.001}\n",
      "Combo[115]={'Width': 512, 'Depth': 2, 'lr': 0.01, 'optimizer': \"'Adam'\", 'decay': 0.001}\n",
      "Combo[116]={'Width': 512, 'Depth': 2, 'lr': 0.01, 'optimizer': \"'SGD'\", 'decay': 0.001}\n",
      "Combo[117]={'Width': 512, 'Depth': 2, 'lr': 0.001, 'optimizer': \"'RMSprop'\", 'decay': 0.001}\n",
      "Combo[118]={'Width': 512, 'Depth': 2, 'lr': 0.001, 'optimizer': \"'Adam'\", 'decay': 0.001}\n",
      "Combo[119]={'Width': 512, 'Depth': 2, 'lr': 0.001, 'optimizer': \"'SGD'\", 'decay': 0.001}\n",
      "Combo[120]={'Width': 32, 'Depth': 3, 'lr': 0.01, 'optimizer': \"'RMSprop'\", 'decay': 0.01}\n",
      "Combo[121]={'Width': 32, 'Depth': 3, 'lr': 0.01, 'optimizer': \"'Adam'\", 'decay': 0.01}\n",
      "Combo[122]={'Width': 32, 'Depth': 3, 'lr': 0.01, 'optimizer': \"'SGD'\", 'decay': 0.01}\n",
      "Combo[123]={'Width': 32, 'Depth': 3, 'lr': 0.001, 'optimizer': \"'RMSprop'\", 'decay': 0.01}\n",
      "Combo[124]={'Width': 32, 'Depth': 3, 'lr': 0.001, 'optimizer': \"'Adam'\", 'decay': 0.01}\n",
      "Combo[125]={'Width': 32, 'Depth': 3, 'lr': 0.001, 'optimizer': \"'SGD'\", 'decay': 0.01}\n",
      "Combo[126]={'Width': 32, 'Depth': 3, 'lr': 0.01, 'optimizer': \"'RMSprop'\", 'decay': 0.001}\n",
      "Combo[127]={'Width': 32, 'Depth': 3, 'lr': 0.01, 'optimizer': \"'Adam'\", 'decay': 0.001}\n",
      "Combo[128]={'Width': 32, 'Depth': 3, 'lr': 0.01, 'optimizer': \"'SGD'\", 'decay': 0.001}\n",
      "Combo[129]={'Width': 32, 'Depth': 3, 'lr': 0.001, 'optimizer': \"'RMSprop'\", 'decay': 0.001}\n",
      "Combo[130]={'Width': 32, 'Depth': 3, 'lr': 0.001, 'optimizer': \"'Adam'\", 'decay': 0.001}\n",
      "Combo[131]={'Width': 32, 'Depth': 3, 'lr': 0.001, 'optimizer': \"'SGD'\", 'decay': 0.001}\n",
      "Combo[132]={'Width': 64, 'Depth': 3, 'lr': 0.01, 'optimizer': \"'RMSprop'\", 'decay': 0.01}\n",
      "Combo[133]={'Width': 64, 'Depth': 3, 'lr': 0.01, 'optimizer': \"'Adam'\", 'decay': 0.01}\n",
      "Combo[134]={'Width': 64, 'Depth': 3, 'lr': 0.01, 'optimizer': \"'SGD'\", 'decay': 0.01}\n",
      "Combo[135]={'Width': 64, 'Depth': 3, 'lr': 0.001, 'optimizer': \"'RMSprop'\", 'decay': 0.01}\n",
      "Combo[136]={'Width': 64, 'Depth': 3, 'lr': 0.001, 'optimizer': \"'Adam'\", 'decay': 0.01}\n",
      "Combo[137]={'Width': 64, 'Depth': 3, 'lr': 0.001, 'optimizer': \"'SGD'\", 'decay': 0.01}\n",
      "Combo[138]={'Width': 64, 'Depth': 3, 'lr': 0.01, 'optimizer': \"'RMSprop'\", 'decay': 0.001}\n",
      "Combo[139]={'Width': 64, 'Depth': 3, 'lr': 0.01, 'optimizer': \"'Adam'\", 'decay': 0.001}\n",
      "Combo[140]={'Width': 64, 'Depth': 3, 'lr': 0.01, 'optimizer': \"'SGD'\", 'decay': 0.001}\n",
      "Combo[141]={'Width': 64, 'Depth': 3, 'lr': 0.001, 'optimizer': \"'RMSprop'\", 'decay': 0.001}\n",
      "Combo[142]={'Width': 64, 'Depth': 3, 'lr': 0.001, 'optimizer': \"'Adam'\", 'decay': 0.001}\n",
      "Combo[143]={'Width': 64, 'Depth': 3, 'lr': 0.001, 'optimizer': \"'SGD'\", 'decay': 0.001}\n",
      "Combo[144]={'Width': 128, 'Depth': 3, 'lr': 0.01, 'optimizer': \"'RMSprop'\", 'decay': 0.01}\n",
      "Combo[145]={'Width': 128, 'Depth': 3, 'lr': 0.01, 'optimizer': \"'Adam'\", 'decay': 0.01}\n",
      "Combo[146]={'Width': 128, 'Depth': 3, 'lr': 0.01, 'optimizer': \"'SGD'\", 'decay': 0.01}\n",
      "Combo[147]={'Width': 128, 'Depth': 3, 'lr': 0.001, 'optimizer': \"'RMSprop'\", 'decay': 0.01}\n",
      "Combo[148]={'Width': 128, 'Depth': 3, 'lr': 0.001, 'optimizer': \"'Adam'\", 'decay': 0.01}\n",
      "Combo[149]={'Width': 128, 'Depth': 3, 'lr': 0.001, 'optimizer': \"'SGD'\", 'decay': 0.01}\n",
      "Combo[150]={'Width': 128, 'Depth': 3, 'lr': 0.01, 'optimizer': \"'RMSprop'\", 'decay': 0.001}\n",
      "Combo[151]={'Width': 128, 'Depth': 3, 'lr': 0.01, 'optimizer': \"'Adam'\", 'decay': 0.001}\n",
      "Combo[152]={'Width': 128, 'Depth': 3, 'lr': 0.01, 'optimizer': \"'SGD'\", 'decay': 0.001}\n",
      "Combo[153]={'Width': 128, 'Depth': 3, 'lr': 0.001, 'optimizer': \"'RMSprop'\", 'decay': 0.001}\n",
      "Combo[154]={'Width': 128, 'Depth': 3, 'lr': 0.001, 'optimizer': \"'Adam'\", 'decay': 0.001}\n",
      "Combo[155]={'Width': 128, 'Depth': 3, 'lr': 0.001, 'optimizer': \"'SGD'\", 'decay': 0.001}\n",
      "Combo[156]={'Width': 256, 'Depth': 3, 'lr': 0.01, 'optimizer': \"'RMSprop'\", 'decay': 0.01}\n",
      "Combo[157]={'Width': 256, 'Depth': 3, 'lr': 0.01, 'optimizer': \"'Adam'\", 'decay': 0.01}\n",
      "Combo[158]={'Width': 256, 'Depth': 3, 'lr': 0.01, 'optimizer': \"'SGD'\", 'decay': 0.01}\n",
      "Combo[159]={'Width': 256, 'Depth': 3, 'lr': 0.001, 'optimizer': \"'RMSprop'\", 'decay': 0.01}\n",
      "Combo[160]={'Width': 256, 'Depth': 3, 'lr': 0.001, 'optimizer': \"'Adam'\", 'decay': 0.01}\n",
      "Combo[161]={'Width': 256, 'Depth': 3, 'lr': 0.001, 'optimizer': \"'SGD'\", 'decay': 0.01}\n",
      "Combo[162]={'Width': 256, 'Depth': 3, 'lr': 0.01, 'optimizer': \"'RMSprop'\", 'decay': 0.001}\n",
      "Combo[163]={'Width': 256, 'Depth': 3, 'lr': 0.01, 'optimizer': \"'Adam'\", 'decay': 0.001}\n",
      "Combo[164]={'Width': 256, 'Depth': 3, 'lr': 0.01, 'optimizer': \"'SGD'\", 'decay': 0.001}\n",
      "Combo[165]={'Width': 256, 'Depth': 3, 'lr': 0.001, 'optimizer': \"'RMSprop'\", 'decay': 0.001}\n",
      "Combo[166]={'Width': 256, 'Depth': 3, 'lr': 0.001, 'optimizer': \"'Adam'\", 'decay': 0.001}\n",
      "Combo[167]={'Width': 256, 'Depth': 3, 'lr': 0.001, 'optimizer': \"'SGD'\", 'decay': 0.001}\n",
      "Combo[168]={'Width': 512, 'Depth': 3, 'lr': 0.01, 'optimizer': \"'RMSprop'\", 'decay': 0.01}\n",
      "Combo[169]={'Width': 512, 'Depth': 3, 'lr': 0.01, 'optimizer': \"'Adam'\", 'decay': 0.01}\n",
      "Combo[170]={'Width': 512, 'Depth': 3, 'lr': 0.01, 'optimizer': \"'SGD'\", 'decay': 0.01}\n",
      "Combo[171]={'Width': 512, 'Depth': 3, 'lr': 0.001, 'optimizer': \"'RMSprop'\", 'decay': 0.01}\n",
      "Combo[172]={'Width': 512, 'Depth': 3, 'lr': 0.001, 'optimizer': \"'Adam'\", 'decay': 0.01}\n",
      "Combo[173]={'Width': 512, 'Depth': 3, 'lr': 0.001, 'optimizer': \"'SGD'\", 'decay': 0.01}\n",
      "Combo[174]={'Width': 512, 'Depth': 3, 'lr': 0.01, 'optimizer': \"'RMSprop'\", 'decay': 0.001}\n",
      "Combo[175]={'Width': 512, 'Depth': 3, 'lr': 0.01, 'optimizer': \"'Adam'\", 'decay': 0.001}\n",
      "Combo[176]={'Width': 512, 'Depth': 3, 'lr': 0.01, 'optimizer': \"'SGD'\", 'decay': 0.001}\n",
      "Combo[177]={'Width': 512, 'Depth': 3, 'lr': 0.001, 'optimizer': \"'RMSprop'\", 'decay': 0.001}\n",
      "Combo[178]={'Width': 512, 'Depth': 3, 'lr': 0.001, 'optimizer': \"'Adam'\", 'decay': 0.001}\n",
      "Combo[179]={'Width': 512, 'Depth': 3, 'lr': 0.001, 'optimizer': \"'SGD'\", 'decay': 0.001}\n",
      "Combo[180]={'Width': 32, 'Depth': 4, 'lr': 0.01, 'optimizer': \"'RMSprop'\", 'decay': 0.01}\n",
      "Combo[181]={'Width': 32, 'Depth': 4, 'lr': 0.01, 'optimizer': \"'Adam'\", 'decay': 0.01}\n",
      "Combo[182]={'Width': 32, 'Depth': 4, 'lr': 0.01, 'optimizer': \"'SGD'\", 'decay': 0.01}\n",
      "Combo[183]={'Width': 32, 'Depth': 4, 'lr': 0.001, 'optimizer': \"'RMSprop'\", 'decay': 0.01}\n",
      "Combo[184]={'Width': 32, 'Depth': 4, 'lr': 0.001, 'optimizer': \"'Adam'\", 'decay': 0.01}\n",
      "Combo[185]={'Width': 32, 'Depth': 4, 'lr': 0.001, 'optimizer': \"'SGD'\", 'decay': 0.01}\n",
      "Combo[186]={'Width': 32, 'Depth': 4, 'lr': 0.01, 'optimizer': \"'RMSprop'\", 'decay': 0.001}\n",
      "Combo[187]={'Width': 32, 'Depth': 4, 'lr': 0.01, 'optimizer': \"'Adam'\", 'decay': 0.001}\n",
      "Combo[188]={'Width': 32, 'Depth': 4, 'lr': 0.01, 'optimizer': \"'SGD'\", 'decay': 0.001}\n",
      "Combo[189]={'Width': 32, 'Depth': 4, 'lr': 0.001, 'optimizer': \"'RMSprop'\", 'decay': 0.001}\n",
      "Combo[190]={'Width': 32, 'Depth': 4, 'lr': 0.001, 'optimizer': \"'Adam'\", 'decay': 0.001}\n",
      "Combo[191]={'Width': 32, 'Depth': 4, 'lr': 0.001, 'optimizer': \"'SGD'\", 'decay': 0.001}\n",
      "Combo[192]={'Width': 64, 'Depth': 4, 'lr': 0.01, 'optimizer': \"'RMSprop'\", 'decay': 0.01}\n",
      "Combo[193]={'Width': 64, 'Depth': 4, 'lr': 0.01, 'optimizer': \"'Adam'\", 'decay': 0.01}\n",
      "Combo[194]={'Width': 64, 'Depth': 4, 'lr': 0.01, 'optimizer': \"'SGD'\", 'decay': 0.01}\n",
      "Combo[195]={'Width': 64, 'Depth': 4, 'lr': 0.001, 'optimizer': \"'RMSprop'\", 'decay': 0.01}\n",
      "Combo[196]={'Width': 64, 'Depth': 4, 'lr': 0.001, 'optimizer': \"'Adam'\", 'decay': 0.01}\n",
      "Combo[197]={'Width': 64, 'Depth': 4, 'lr': 0.001, 'optimizer': \"'SGD'\", 'decay': 0.01}\n",
      "Combo[198]={'Width': 64, 'Depth': 4, 'lr': 0.01, 'optimizer': \"'RMSprop'\", 'decay': 0.001}\n",
      "Combo[199]={'Width': 64, 'Depth': 4, 'lr': 0.01, 'optimizer': \"'Adam'\", 'decay': 0.001}\n",
      "Combo[200]={'Width': 64, 'Depth': 4, 'lr': 0.01, 'optimizer': \"'SGD'\", 'decay': 0.001}\n",
      "Combo[201]={'Width': 64, 'Depth': 4, 'lr': 0.001, 'optimizer': \"'RMSprop'\", 'decay': 0.001}\n",
      "Combo[202]={'Width': 64, 'Depth': 4, 'lr': 0.001, 'optimizer': \"'Adam'\", 'decay': 0.001}\n",
      "Combo[203]={'Width': 64, 'Depth': 4, 'lr': 0.001, 'optimizer': \"'SGD'\", 'decay': 0.001}\n",
      "Combo[204]={'Width': 128, 'Depth': 4, 'lr': 0.01, 'optimizer': \"'RMSprop'\", 'decay': 0.01}\n",
      "Combo[205]={'Width': 128, 'Depth': 4, 'lr': 0.01, 'optimizer': \"'Adam'\", 'decay': 0.01}\n",
      "Combo[206]={'Width': 128, 'Depth': 4, 'lr': 0.01, 'optimizer': \"'SGD'\", 'decay': 0.01}\n",
      "Combo[207]={'Width': 128, 'Depth': 4, 'lr': 0.001, 'optimizer': \"'RMSprop'\", 'decay': 0.01}\n",
      "Combo[208]={'Width': 128, 'Depth': 4, 'lr': 0.001, 'optimizer': \"'Adam'\", 'decay': 0.01}\n",
      "Combo[209]={'Width': 128, 'Depth': 4, 'lr': 0.001, 'optimizer': \"'SGD'\", 'decay': 0.01}\n",
      "Combo[210]={'Width': 128, 'Depth': 4, 'lr': 0.01, 'optimizer': \"'RMSprop'\", 'decay': 0.001}\n",
      "Combo[211]={'Width': 128, 'Depth': 4, 'lr': 0.01, 'optimizer': \"'Adam'\", 'decay': 0.001}\n",
      "Combo[212]={'Width': 128, 'Depth': 4, 'lr': 0.01, 'optimizer': \"'SGD'\", 'decay': 0.001}\n",
      "Combo[213]={'Width': 128, 'Depth': 4, 'lr': 0.001, 'optimizer': \"'RMSprop'\", 'decay': 0.001}\n",
      "Combo[214]={'Width': 128, 'Depth': 4, 'lr': 0.001, 'optimizer': \"'Adam'\", 'decay': 0.001}\n",
      "Combo[215]={'Width': 128, 'Depth': 4, 'lr': 0.001, 'optimizer': \"'SGD'\", 'decay': 0.001}\n",
      "Combo[216]={'Width': 256, 'Depth': 4, 'lr': 0.01, 'optimizer': \"'RMSprop'\", 'decay': 0.01}\n",
      "Combo[217]={'Width': 256, 'Depth': 4, 'lr': 0.01, 'optimizer': \"'Adam'\", 'decay': 0.01}\n",
      "Combo[218]={'Width': 256, 'Depth': 4, 'lr': 0.01, 'optimizer': \"'SGD'\", 'decay': 0.01}\n",
      "Combo[219]={'Width': 256, 'Depth': 4, 'lr': 0.001, 'optimizer': \"'RMSprop'\", 'decay': 0.01}\n",
      "Combo[220]={'Width': 256, 'Depth': 4, 'lr': 0.001, 'optimizer': \"'Adam'\", 'decay': 0.01}\n",
      "Combo[221]={'Width': 256, 'Depth': 4, 'lr': 0.001, 'optimizer': \"'SGD'\", 'decay': 0.01}\n",
      "Combo[222]={'Width': 256, 'Depth': 4, 'lr': 0.01, 'optimizer': \"'RMSprop'\", 'decay': 0.001}\n",
      "Combo[223]={'Width': 256, 'Depth': 4, 'lr': 0.01, 'optimizer': \"'Adam'\", 'decay': 0.001}\n",
      "Combo[224]={'Width': 256, 'Depth': 4, 'lr': 0.01, 'optimizer': \"'SGD'\", 'decay': 0.001}\n",
      "Combo[225]={'Width': 256, 'Depth': 4, 'lr': 0.001, 'optimizer': \"'RMSprop'\", 'decay': 0.001}\n",
      "Combo[226]={'Width': 256, 'Depth': 4, 'lr': 0.001, 'optimizer': \"'Adam'\", 'decay': 0.001}\n",
      "Combo[227]={'Width': 256, 'Depth': 4, 'lr': 0.001, 'optimizer': \"'SGD'\", 'decay': 0.001}\n",
      "Combo[228]={'Width': 512, 'Depth': 4, 'lr': 0.01, 'optimizer': \"'RMSprop'\", 'decay': 0.01}\n",
      "Combo[229]={'Width': 512, 'Depth': 4, 'lr': 0.01, 'optimizer': \"'Adam'\", 'decay': 0.01}\n",
      "Combo[230]={'Width': 512, 'Depth': 4, 'lr': 0.01, 'optimizer': \"'SGD'\", 'decay': 0.01}\n",
      "Combo[231]={'Width': 512, 'Depth': 4, 'lr': 0.001, 'optimizer': \"'RMSprop'\", 'decay': 0.01}\n",
      "Combo[232]={'Width': 512, 'Depth': 4, 'lr': 0.001, 'optimizer': \"'Adam'\", 'decay': 0.01}\n",
      "Combo[233]={'Width': 512, 'Depth': 4, 'lr': 0.001, 'optimizer': \"'SGD'\", 'decay': 0.01}\n",
      "Combo[234]={'Width': 512, 'Depth': 4, 'lr': 0.01, 'optimizer': \"'RMSprop'\", 'decay': 0.001}\n",
      "Combo[235]={'Width': 512, 'Depth': 4, 'lr': 0.01, 'optimizer': \"'Adam'\", 'decay': 0.001}\n",
      "Combo[236]={'Width': 512, 'Depth': 4, 'lr': 0.01, 'optimizer': \"'SGD'\", 'decay': 0.001}\n",
      "Combo[237]={'Width': 512, 'Depth': 4, 'lr': 0.001, 'optimizer': \"'RMSprop'\", 'decay': 0.001}\n",
      "Combo[238]={'Width': 512, 'Depth': 4, 'lr': 0.001, 'optimizer': \"'Adam'\", 'decay': 0.001}\n",
      "Combo[239]={'Width': 512, 'Depth': 4, 'lr': 0.001, 'optimizer': \"'SGD'\", 'decay': 0.001}\n"
     ]
    }
   ],
   "source": [
    "%run -m CaloDNN.ClassificationScanConfig"
   ]
  },
  {
   "cell_type": "markdown",
   "metadata": {},
   "source": [
    "This should tell you the number possible configurations. We will select\n",
    "specific ones using the **-s** flag when running the experiment."
   ]
  },
  {
   "cell_type": "code",
   "execution_count": null,
   "metadata": {
    "collapsed": true
   },
   "outputs": [],
   "source": [
    "%run -im CaloDNN.ClassificationExperiment -- --Test -s 10"
   ]
  },
  {
   "cell_type": "markdown",
   "metadata": {
    "collapsed": true
   },
   "source": [
    "## Performing a Scan\n",
    "\n",
    "From above, it should be appearant that in order you can easily try all possible configurations by running the same command with all possible values of the `-s` parameter. And since every configuration is independent, you can run the experiments in parallel. \n",
    "\n",
    "### PBS/Torque Batch System\n",
    "\n",
    "On most GPU equipped clusters, like UTA-DL, a batch system allows you to submit \"jobs\" into \"queues\" which will then execute each job when appropriate resources become available. \n",
    "\n",
    "You can get a list of available queue, using the `qstat -Q` command:"
   ]
  },
  {
   "cell_type": "code",
   "execution_count": 1,
   "metadata": {},
   "outputs": [
    {
     "name": "stdout",
     "output_type": "stream",
     "text": [
      "Queue              Max   Tot   Ena   Str   Que   Run   Hld   Wat   Trn   Ext T         \r\n",
      "----------------   ---   ---   ---   ---   ---   ---   ---   ---   ---   --- -         \r\n",
      "gpu9thecount         1     0   yes   yes     0     0     0     0     0     0 E         \r\n",
      "gpu5thecount         1     0   yes   yes     0     0     0     0     0     0 E         \r\n",
      "gpu0oscar           20     1   yes   yes     0     1     0     0     0     0 E         \r\n",
      "gpu0super            1     0   yes   yes     0     0     0     0     0     0 E         \r\n",
      "gpu2thingtwo         1     0   yes   yes     0     0     0     0     0     0 E         \r\n",
      "gpu1thecount         1     0   yes   yes     0     0     0     0     0     0 E         \r\n",
      "gpu_queue            0     0   yes   yes     0     0     0     0     0     0 R         \r\n",
      "cpu_queue            0     0   yes   yes     0     0     0     0     0     0 R         \r\n",
      "gpu1thingone         1     0   yes   yes     0     0     0     0     0     0 E         \r\n",
      "cpu_thingone        12     0   yes   yes     0     0     0     0     0     0 E         \r\n",
      "gpu_thingtwo         0     0   yes   yes     0     0     0     0     0     0 R         \r\n",
      "cpu_ditto           12     0    no   yes     0     0     0     0     0     0 E         \r\n",
      "gpu0thingone         1     0   yes   yes     0     0     0     0     0     0 E         \r\n",
      "gpu4thecount         1     0   yes   yes     0     0     0     0     0     0 E         \r\n",
      "gpu3thingtwo         1     0   yes   yes     0     0     0     0     0     0 E         \r\n",
      "gpu0thecount         1     0   yes   yes     0     0     0     0     0     0 E         \r\n",
      "gpu1super            1     0   yes   yes     0     0     0     0     0     0 E         \r\n",
      "gpu8thecount         1     0   yes   yes     0     0     0     0     0     0 E         \r\n",
      "gpu1oscar           20     0   yes   yes     0     0     0     0     0     0 E         \r\n",
      "batch                0     0   yes   yes     0     0     0     0     0     0 E         \r\n",
      "cpu_thecount        44     0   yes   yes     0     0     0     0     0     0 E         \r\n",
      "gpu2thingone         1     0   yes   yes     0     0     0     0     0     0 E         \r\n",
      "gpu3oscar            1     0    no   yes     0     0     0     0     0     0 E         \r\n",
      "gpu3super            1     0   yes   yes     0     0     0     0     0     0 E         \r\n",
      "gpu6thecount         1     0   yes   yes     0     0     0     0     0     0 E         \r\n",
      "gpu2thecount         1     0   yes   yes     0     0     0     0     0     0 E         \r\n",
      "gpu1thingtwo         1     0   yes   yes     0     0     0     0     0     0 E         \r\n",
      "gpu2super            1     0   yes   yes     0     0     0     0     0     0 E         \r\n",
      "gpu2oscar            1     0    no   yes     0     0     0     0     0     0 E         \r\n",
      "gpu7thecount         1     0   yes   yes     0     0     0     0     0     0 E         \r\n",
      "gpu3thecount         1     0   yes   yes     0     0     0     0     0     0 E         \r\n",
      "gpu0thingtwo         1     0   yes   yes     0     0     0     0     0     0 E         \r\n",
      "gpu_thingone         0     0   yes   yes     0     0     0     0     0     0 R         \r\n",
      "cpu_thingtwo        12     0   yes   yes     0     0     0     0     0     0 E         \r\n",
      "cpu_super           48     0   yes   yes     0     0     0     0     0     0 E         \r\n",
      "gpu_super            0     0   yes   yes     0     0     0     0     0     0 R         \r\n",
      "gpu_oscar            0     0   yes   yes     0     0     0     0     0     0 R         \r\n",
      "gpu_thecount         0     0   yes   yes     0     0     0     0     0     0 R         \r\n",
      "gpu3thingone         1     0   yes   yes     0     0     0     0     0     0 E         \r\n"
     ]
    }
   ],
   "source": [
    "!qstat -Q"
   ]
  },
  {
   "cell_type": "markdown",
   "metadata": {},
   "source": [
    "On the UTA-DL cluster, the queues are setup as follows. The `cpu_queue` and `gpu_queue` routing queues send jobs to CPU and GPU resources on each of 5 nodes:\n",
    "\n",
    "    * thecount: 44-core 10 GPU\n",
    "    * super: 24-core 4 GPU\n",
    "    * thingone and thingtwo: 6 core 4 GPU each.\n",
    "    * oscar: 6 core 2 GPU (used for Jupyter sessions).\n",
    "    \n",
    "Submitting to the queue system, requires you to write a script. For example, this is the script `CaloDNN/ScanJob.sh`:\n"
   ]
  },
  {
   "cell_type": "raw",
   "metadata": {},
   "source": [
    "#PBS -V\n",
    "printenv\n",
    "mkdir -p ScanLogs\n",
    "output=ScanLogs/$PBS_ARRAYID.log\n",
    "\n",
    "echo $output >> $output\n",
    "echo Running on $HOSTNAME >> $output\n",
    "echo Array Number: $PBS_ARRAYID >> $output\n",
    "echo Queue: $PBS_QUEUE >> $output\n",
    "\n",
    "cd ~/LCD/DLKit\n",
    "source setup.sh\n",
    "\n",
    "python -m CaloDNN.ClassificationExperiment -s $PBS_ARRAYID &>> $output"
   ]
  },
  {
   "cell_type": "markdown",
   "metadata": {},
   "source": [
    "This scripts creates a directory to store the `stdout/stderr` output of the job. Sets up the environment, and starts the job. To set the `-s` parameter, we use Torque's array job mechanism, which will set the `$PBS_ARRAYID` environment variable, to an interger as specified during submission.\n",
    "\n",
    "So for example, to run configurations 10-20, we do (don't run this unless you mean it):"
   ]
  },
  {
   "cell_type": "code",
   "execution_count": 2,
   "metadata": {},
   "outputs": [
    {
     "name": "stdout",
     "output_type": "stream",
     "text": [
      "7120.zoidberg\r\n"
     ]
    }
   ],
   "source": [
    "!qsub -q gpu_queue -t 10-20 CaloDNN/ScanJob.sh"
   ]
  },
  {
   "cell_type": "markdown",
   "metadata": {},
   "source": [
    "You can monitor your jobs using the `qstat` command:"
   ]
  },
  {
   "cell_type": "code",
   "execution_count": 5,
   "metadata": {},
   "outputs": [
    {
     "name": "stdout",
     "output_type": "stream",
     "text": [
      "Job id                    Name             User            Time Use S Queue\r\n",
      "------------------------- ---------------- --------------- -------- - -----\r\n",
      "7119.zoidberg             STDIN            afarbin         00:00:01 R gpu0oscar      \r\n",
      "7120-10.zoidberg          ScanJob.sh-10    afarbin         00:01:24 R gpu9thecount   \r\n",
      "7120-11.zoidberg          ScanJob.sh-11    afarbin         00:02:44 R gpu8thecount   \r\n",
      "7120-12.zoidberg          ScanJob.sh-12    afarbin         00:04:14 R gpu3super      \r\n",
      "7120-13.zoidberg          ScanJob.sh-13    afarbin         00:03:24 R gpu1super      \r\n",
      "7120-14.zoidberg          ScanJob.sh-14    afarbin         00:04:29 R gpu2super      \r\n",
      "7120-15.zoidberg          ScanJob.sh-15    afarbin         00:04:31 R gpu0super      \r\n",
      "7120-16.zoidberg          ScanJob.sh-16    afarbin         00:00:30 R gpu3thingtwo   \r\n",
      "7120-17.zoidberg          ScanJob.sh-17    afarbin         00:00:03 R gpu2thingtwo   \r\n",
      "7120-18.zoidberg          ScanJob.sh-18    afarbin         00:00:47 R gpu1thingtwo   \r\n",
      "7120-19.zoidberg          ScanJob.sh-19    afarbin         00:00:23 R gpu0thingtwo   \r\n",
      "7120-20.zoidberg          ScanJob.sh-20    afarbin         00:01:12 R gpu3thingone   \r\n"
     ]
    }
   ],
   "source": [
    "!qstat"
   ]
  },
  {
   "cell_type": "markdown",
   "metadata": {},
   "source": [
    "## Analysis\n",
    "\n",
    "After you jobs start to complete, you can start viewing the performance using:"
   ]
  },
  {
   "cell_type": "code",
   "execution_count": null,
   "metadata": {
    "collapsed": true
   },
   "outputs": [],
   "source": [
    "!python -m DLAnalysis.Scan TrainedModels/"
   ]
  },
  {
   "cell_type": "markdown",
   "metadata": {},
   "source": [
    "You can explore the performance of all of the models in your scan using the python notebook [`CaloDNN/AnalyzeScan-OptimizerStudy.ipynb`](https://github.com/UTA-HEP-Computing/CaloDNN/blob/master/AnalyzeScan-OptimizerStudy.ipynb). Simply make a copy of the notebook into your DLKit directory and navigate Jupyter to the notebook:"
   ]
  },
  {
   "cell_type": "code",
   "execution_count": 6,
   "metadata": {
    "collapsed": true
   },
   "outputs": [],
   "source": [
    "!cp CaloDNN/AnalyzeScan-OptimizerStudy.ipynb ./AnalyzeScan-MyStudy.ipynb"
   ]
  },
  {
   "cell_type": "markdown",
   "metadata": {},
   "source": [
    "Similarly use can use [`CaloDNN/AnalyzerPerformance.ipynb`](https://github.com/UTA-HEP-Computing/CaloDNN/blob/master/AnalyzePerformance.ipynb) to study the performance of a specific model in detail."
   ]
  },
  {
   "cell_type": "markdown",
   "metadata": {},
   "source": [
    "## The Experiment"
   ]
  },
  {
   "cell_type": "markdown",
   "metadata": {},
   "source": [
    "The main driver of the experiment, [`CaloDNN/ClassificationExperiment.py`](https://github.com/UTA-HEP-Computing/CaloDNN/blob/master/ClassificationExperiment.py), is well commented. In order for you to add you own models and modify things, you should carefully read through this file."
   ]
  },
  {
   "cell_type": "code",
   "execution_count": null,
   "metadata": {
    "collapsed": true
   },
   "outputs": [],
   "source": []
  }
 ],
 "metadata": {
  "kernelspec": {
   "display_name": "Python 2",
   "language": "python",
   "name": "python2"
  },
  "language_info": {
   "codemirror_mode": {
    "name": "ipython",
    "version": 2
   },
   "file_extension": ".py",
   "mimetype": "text/x-python",
   "name": "python",
   "nbconvert_exporter": "python",
   "pygments_lexer": "ipython2",
   "version": "2.7.10"
  }
 },
 "nbformat": 4,
 "nbformat_minor": 2
}
