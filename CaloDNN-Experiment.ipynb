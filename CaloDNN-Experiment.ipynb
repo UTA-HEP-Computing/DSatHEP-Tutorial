{
 "cells": [
  {
   "cell_type": "markdown",
   "metadata": {},
   "source": [
    "The following runs the Classification Experiment. Remove \"--Test\" to run on full dataset for many epochs."
   ]
  },
  {
   "cell_type": "code",
   "execution_count": null,
   "metadata": {
    "scrolled": false
   },
   "outputs": [],
   "source": [
    "%matplotlib inline\n",
    "import matplotlib.pyplot as plt\n",
    "%run -im CaloDNN.ClassificationExperiment -- --Test"
   ]
  },
  {
   "cell_type": "code",
   "execution_count": null,
   "metadata": {},
   "outputs": [],
   "source": [
    "from DLAnalysis.Scan import *\n",
    "MyModels=[MyModel]\n",
    "# Rename the Models using Width and Depth\n",
    "ResetNames(MyModels,[\"Width\",\"Depth\"])\n",
    "\n",
    "# Add the number of epochs to MetaData by counting length of history\n",
    "GetEpochs(MyModels)\n",
    "\n",
    "# Pull data from previous trainings into latest MetaData, with \"All_\" suffix\n",
    "print \"Historical Parameters:\",GetHistorical(MyModels) \n",
    "print \"-------------\"\n",
    "print \"MetaData:\",MyModel.MetaData.keys()\n",
    "print \"-------------\"\n",
    "\n",
    "print \"Available Parameters:\", GetGoodParams(MyModels)"
   ]
  },
  {
   "cell_type": "code",
   "execution_count": null,
   "metadata": {},
   "outputs": [],
   "source": [
    "ScanTable(MyModels,['Model Name', 'Width', 'Depth', 'Epochs', 'Ele_AUC',  'Pi0_AUC', 'ChPi_AUC',  'Gamma_AUC'],[1,2,0])"
   ]
  },
  {
   "cell_type": "code",
   "execution_count": null,
   "metadata": {},
   "outputs": [],
   "source": [
    "PlotMetaDataMany(MyModels,4,\n",
    "                [[\"History\",\"loss\"],[\"History\",\"val_loss\"]],\n",
    "                     sort=[\"Width\",\"Depth\",\"lr\",\"decay\"],switch=[\"Width\",\"Depth\"],loc=\"center left\")"
   ]
  },
  {
   "cell_type": "code",
   "execution_count": null,
   "metadata": {},
   "outputs": [],
   "source": [
    "# Note this will work only if you trained the same model more than once \n",
    "PlotMetaData(MyModels,[\"All_History.loss\"])"
   ]
  },
  {
   "cell_type": "code",
   "execution_count": null,
   "metadata": {},
   "outputs": [],
   "source": [
    "PlotMetaDataMany(MyModels,4,\n",
    "                [[\"All_History.loss\"],[\"All_History.val_loss\"]],\n",
    "                     sort=[\"Width\",\"Depth\",\"lr\",\"decay\"],switch=[\"Width\",\"Depth\"],loc=\"center left\")"
   ]
  },
  {
   "cell_type": "code",
   "execution_count": null,
   "metadata": {},
   "outputs": [],
   "source": [
    "MyModel.MetaData[\"InputMetaData\"]"
   ]
  },
  {
   "cell_type": "code",
   "execution_count": null,
   "metadata": {},
   "outputs": [],
   "source": [
    "GetHistorical(MyModels)"
   ]
  }
 ],
 "metadata": {
  "kernelspec": {
   "display_name": "Python 2",
   "language": "python",
   "name": "python2"
  },
  "language_info": {
   "codemirror_mode": {
    "name": "ipython",
    "version": 2
   },
   "file_extension": ".py",
   "mimetype": "text/x-python",
   "name": "python",
   "nbconvert_exporter": "python",
   "pygments_lexer": "ipython2",
   "version": "2.7.12"
  }
 },
 "nbformat": 4,
 "nbformat_minor": 2
}
