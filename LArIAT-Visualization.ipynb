{
 "cells": [
  {
   "cell_type": "markdown",
   "metadata": {},
   "source": [
    "# LArIAT Data Visualization\n",
    "\n",
    "The 2D h5 files store a shape (240,240,4096) \"features\" tensor that hold the raw output of the simulation/reconstruction. The 3D h5 files store the trajectory from Geant4, which can be used to make a \"true\" 3D image. This data is in a 2 tensors. \"images3D/C\" holds the x,y,z coordinates of each trajectory and \"images3D/V\" hold the corresponding charge. \n",
    "\n",
    "This notebook holds a bare-bones example of how to make images from this data. "
   ]
  },
  {
   "cell_type": "markdown",
   "metadata": {},
   "source": [
    "First we will define the location and files associated to these 2D and 3D h5 files, which will be used throughout the rest of the notebook:"
   ]
  },
  {
   "cell_type": "code",
   "execution_count": null,
   "metadata": {
    "collapsed": true
   },
   "outputs": [],
   "source": [
    "BaseDir2D=\"/data/LArIAT/h5_files_2D_3D/2D_h5/*\"\n",
    "BaseDir3D=\"/data/LArIAT/h5_files_2D_3D/3D_h5/*\""
   ]
  },
  {
   "cell_type": "code",
   "execution_count": null,
   "metadata": {},
   "outputs": [],
   "source": [
    "import h5py\n",
    "import glob\n",
    "Files2D=glob.glob(BaseDir2D)\n",
    "Files3D=glob.glob(BaseDir3D)\n",
    "print \"Number of Files:\", len(Files2D)"
   ]
  },
  {
   "cell_type": "markdown",
   "metadata": {},
   "source": [
    "Next we will organize the files to associate certain files to certain particle types (as was done in the handscan exercise)."
   ]
  },
  {
   "cell_type": "code",
   "execution_count": null,
   "metadata": {},
   "outputs": [],
   "source": [
    "import os\n",
    "\n",
    "def OrganizeFiles(Files):\n",
    "    FileCount= {}  # Store the count here\n",
    "    FileLists= {}  # Organize the files by particle type here.\n",
    "\n",
    "    for aFile in Files:\n",
    "        # Lets strip the path (everything before the \"/\"s) and get the filename:\n",
    "        FileName=os.path.basename(aFile)\n",
    "    \n",
    "        # Now use everything before the first \"_\" as the particle name\n",
    "        ParticleName=FileName.split('_')[0]\n",
    "    \n",
    "        if ParticleName in FileCount.keys():\n",
    "            FileCount[ParticleName]+=1\n",
    "            FileLists[ParticleName].append(aFile)\n",
    "        else:\n",
    "            FileCount[ParticleName]=1\n",
    "            FileLists[ParticleName]= [aFile]\n",
    "    \n",
    "    print \"Number of types of particles:\", len(FileCount.keys())\n",
    "    print \"----------------------------------------------------------\"\n",
    "    print \"Number of files for each particle type:\", FileCount\n",
    "    print \"----------------------------------------------------------\"\n",
    "    print \"First file of each type:\"\n",
    "    for aFile in FileLists:\n",
    "        print aFile,\":\",FileLists[aFile][0]\n",
    "        \n",
    "    return FileLists,FileCount\n",
    "\n",
    "FileLists3D,FileCount3D=OrganizeFiles(Files3D)\n",
    "FileLists2D,FileCount2D=OrganizeFiles(Files2D)"
   ]
  },
  {
   "cell_type": "markdown",
   "metadata": {},
   "source": [
    "Now we will visualize example events in both 2D and 3D. The first block of code below sets up several plotting functions that will be used later on. There is a function to plot the 2D data for two events side-by-side. There is a function to plot the 3D data in a scatter plot. And finally a function to project the 3D data into 2D."
   ]
  },
  {
   "cell_type": "code",
   "execution_count": null,
   "metadata": {
    "collapsed": true,
    "scrolled": true
   },
   "outputs": [],
   "source": [
    "import matplotlib.pyplot as plt\n",
    "%matplotlib inline\n",
    "import numpy as np\n",
    "from mpl_toolkits.mplot3d import Axes3D\n",
    "\n",
    "#Plots the raw simulated data\n",
    "def PlotEvent2D(image):\n",
    "    # Make two plots. Create a 1 by 2 grid the plots.\n",
    "    ax1 = plt.subplot(1,2,1)\n",
    "    ax2 = plt.subplot(1,2,2)\n",
    "\n",
    "    # Plot the first view. Note: [EventNumber, View] = [0,0]\n",
    "    ax1.imshow(image[0])\n",
    "\n",
    "    # Plot the second view \n",
    "    ax2.imshow(image[1])\n",
    "\n",
    "    # The data is 240 by 4096. Change the aspect ratio so the plot is not squished. \n",
    "    ax1.set_aspect(16)  \n",
    "    ax2.set_aspect(16) \n",
    "\n",
    "#Plots the 3D trajectory information from Geant4\n",
    "def PlotEvent3D(Data_C,Data_V,i,select=False):\n",
    "    fig = plt.figure()\n",
    "    ax = fig.add_subplot(111, projection='3d')\n",
    "    \n",
    "    if select:\n",
    "        I=np.where(Data_V[i]>select)\n",
    "    else:\n",
    "        I=range(len(Data.V[i]))\n",
    "    ax.scatter(Data_C[i][:,0][I], Data_C[i][:,1][I], Data_C[i][:,2][I], c=np.log(Data_V[i][I]), zdir='z', s=1, depthshade=True)\n",
    "    \n",
    "    plt.show()\n",
    "    \n",
    "#Projects turns trajectory to 3D image, then projects to 2D.\n",
    "def PlotEvent2DProjection(Data3D_C,Data3D_V,i,shape=(240, 240, 4096)):\n",
    "    image=np.histogramdd(Data3D_C[i], bins=shape, weights=Data3D_V[i])[0]\n",
    "    \n",
    "    # Make two plots. Create a 1 by 2 grid the plots.\n",
    "    ax1 = plt.subplot(1,2,1)\n",
    "    ax2 = plt.subplot(1,2,2)\n",
    "\n",
    "    # Plot the first view. Note: [EventNumber, View] = [0,0]\n",
    "    ax1.imshow(np.sum(image,axis=0))\n",
    "\n",
    "    # Plot the second view \n",
    "    ax2.imshow(np.sum(image,axis=1))\n",
    "\n",
    "    # The data is 240 by 4096. Change the aspect ratio so the plot is not squished. \n",
    "    ax1.set_aspect(16)  \n",
    "    ax2.set_aspect(16) \n",
    "\n",
    "def PlotEvent(i,select=False):\n",
    "    PlotEvent2D(np.array(Data2D[i],dtype='float32'))\n",
    "    PlotEvent3D(Data3D_C,Data3D_V,i,select)\n",
    "    PlotEvent2DProjection(Data3D_C,Data3D_V,i)\n",
    "\n",
    "\n",
    "        "
   ]
  },
  {
   "cell_type": "markdown",
   "metadata": {},
   "source": [
    "In the following block of code we will get the data needed for plotting."
   ]
  },
  {
   "cell_type": "code",
   "execution_count": null,
   "metadata": {},
   "outputs": [],
   "source": [
    "# Load the first \n",
    "f2D=h5py.File(FileLists2D[\"electron\"][0],\"r\")\n",
    "f3D=h5py.File(FileLists3D[\"electron\"][0],\"r\")\n",
    "\n",
    "# Get the 2D images\n",
    "Data2D=f2D[\"features\"]\n",
    "\n",
    "# Get the 3D data\n",
    "Data3D_C=f3D[\"images3D/C\"]\n",
    "Data3D_V=f3D[\"images3D/V\"]\n"
   ]
  },
  {
   "cell_type": "markdown",
   "metadata": {},
   "source": [
    "Finally plot the data, calling the functions we have defined above:"
   ]
  },
  {
   "cell_type": "code",
   "execution_count": null,
   "metadata": {},
   "outputs": [],
   "source": [
    "PlotEvent(0,1500)    "
   ]
  }
 ],
 "metadata": {
  "kernelspec": {
   "display_name": "Python 2",
   "language": "python",
   "name": "python2"
  },
  "language_info": {
   "codemirror_mode": {
    "name": "ipython",
    "version": 2
   },
   "file_extension": ".py",
   "mimetype": "text/x-python",
   "name": "python",
   "nbconvert_exporter": "python",
   "pygments_lexer": "ipython2",
   "version": "2.7.12"
  }
 },
 "nbformat": 4,
 "nbformat_minor": 2
}
