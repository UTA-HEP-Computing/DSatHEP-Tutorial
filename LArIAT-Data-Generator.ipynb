{
 "cells": [
  {
   "cell_type": "code",
   "execution_count": null,
   "metadata": {},
   "outputs": [],
   "source": [
    "#python DLTools/SetupPython.py > mysetup.py\n",
    "import mysetup\n",
    "from LArTPCDNN.LoadData import *\n",
    "\n",
    "# Number of Threads when reading and mixing data\n",
    "n_threads=1\n",
    "\n",
    "# Number of Threads when reading cached mixed data (2nd data pass)\n",
    "n_threads2=1\n",
    "\n",
    "# Number of batches read by each thread\n",
    "multiplier=1\n",
    "\n",
    "\n",
    "BatchSize=16\n",
    "FileSearch=\"/data/LArIAT/h5_files_2D_3D/2D_h5/*.h5\"\n",
    "\n",
    "# Downsampling Factor\n",
    "DownSampleSize=8\n",
    "\n",
    "# Size of window scanned accross data\n",
    "ScanWindowSize=256\n",
    "\n",
    "# Normalize Data?\n",
    "Normalize=True\n",
    "\n",
    "NSamples=10000\n",
    "\n",
    "# Energy Cut (unnecessary for latest datasets)\n",
    "EnergyCut=0.61\n",
    "\n",
    "# Particle types to read\n",
    "Particles= ['electron', 'antielectron',\n",
    "            'pion',             \n",
    "            'photon',\n",
    "            'pionPlus', 'pionMinus',\n",
    "            'proton', 'antiproton',\n",
    "            'muon', 'antimuon',\n",
    "            'kaonMinus', 'kaonPlus']\n",
    "\n",
    "NClasses=len(Particles)\n",
    "\n",
    "if ScanWindowSize>0:\n",
    "#    shapes=[(BatchSize*multiplier, 2, 240, ScanWindowSize), (BatchSize*multiplier, NClasses)]\n",
    "    shapes=[(BatchSize*multiplier, 240, ScanWindowSize),\n",
    "            (BatchSize*multiplier, 240, ScanWindowSize),\n",
    "            (BatchSize*multiplier, NClasses)]\n",
    "    viewshape=(None, 240, ScanWindowSize)\n",
    "else:\n",
    "    shapes=[(BatchSize*multiplier, 240, 4096/DownSampleSize),\n",
    "            (BatchSize*multiplier, 240, 4096/DownSampleSize),\n",
    "            (BatchSize*multiplier, NClasses)]\n",
    "\n",
    "    viewshape=(None, 240, 4096/DownSampleSize)\n",
    "\n",
    "\n",
    "# Separate Files into Training and Test samples\n",
    "TrainSampleList,TestSampleList=DivideFiles(FileSearch,[.9,.1],\n",
    "                                           datasetnames=[u'features'],\n",
    "                                           Particles=Particles)\n",
    "\n",
    "def MakeGenerator(SampleList,NSamples,\n",
    "                  cachefile=\"LArIAT-LoadDataTest-Cache.h5\",**kwargs):\n",
    "\n",
    "    return DLMultiClassFilterGenerator(TrainSampleList, FilterEnergy(EnergyCut), max=NSamples,\n",
    "                                       preprocessfunction=ProcessWireData(DownSampleSize,ScanWindowSize,Normalize),\n",
    "                                       postprocessfunction=MergeInputs(),\n",
    "                                       batchsize=BatchSize,\n",
    "                                       shapes=shapes,\n",
    "                                       n_threads=n_threads,\n",
    "                                       multiplier=multiplier,\n",
    "                                       cachefile=cachefile,\n",
    "                                       **kwargs)\n",
    "\n",
    "# Use DLGenerators to read data\n",
    "Train_gen = MakeGenerator(TrainSampleList, NSamples,\n",
    "                            cachefile=\"/tmp/LArTPCDNN-LArIAT-TrainEvent-Cache.h5\")\n",
    "\n",
    "gen=Train_gen.DiskCacheGenerator(n_threads2)\n",
    "\n"
   ]
  },
  {
   "cell_type": "code",
   "execution_count": null,
   "metadata": {
    "collapsed": true
   },
   "outputs": [],
   "source": [
    "# Get the first batch\n",
    "Data=gen.next()"
   ]
  },
  {
   "cell_type": "code",
   "execution_count": null,
   "metadata": {},
   "outputs": [],
   "source": [
    "Data[0][1].shape"
   ]
  }
 ],
 "metadata": {
  "kernelspec": {
   "display_name": "Python 2",
   "language": "python",
   "name": "python2"
  },
  "language_info": {
   "codemirror_mode": {
    "name": "ipython",
    "version": 2
   },
   "file_extension": ".py",
   "mimetype": "text/x-python",
   "name": "python",
   "nbconvert_exporter": "python",
   "pygments_lexer": "ipython2",
   "version": "2.7.10"
  }
 },
 "nbformat": 4,
 "nbformat_minor": 2
}
