{
 "cells": [
  {
   "cell_type": "code",
   "execution_count": null,
   "metadata": {
    "collapsed": true
   },
   "outputs": [],
   "source": [
    "from CaloDNN.LoadData import *\n",
    "\n",
    "FileSearch=\"/data/LCD/V1/*/*.h5\"\n",
    "MaxEvents=int(3.e6)\n",
    "NTestSamples=100000\n",
    "\n",
    "Particles=[\"ChPi\",\"Gamma\",\"Pi0\",\"Ele\"]\n",
    "NClasses=4\n",
    "\n",
    "BatchSize=1024\n",
    "        \n",
    "n_threads=n_threads\n",
    "n_threads_cache=5\n",
    "multiplier:1\n",
    "    \n",
    "ECAL=True\n",
    "ECALNorm=\"NonLinear\"\n",
    "\n",
    "HCAL=True,\n",
    "HCALNorm=\"NonLinear\"\n",
    "\n",
    "ECALShape= None, 25, 25, 25\n",
    "HCALShape= None, 5, 5, 60\n",
    "\n",
    "TrainSampleList,TestSampleList,Norms,shapes=SetupData(FileSearch,\n",
    "                                                      ECAL,HCAL,True,NClasses,\n",
    "                                                      [float(NSamples)/MaxEvents,\n",
    "                                                       float(NTestSamples)/MaxEvents],\n",
    "                                                      Particles,\n",
    "                                                      BatchSize,\n",
    "                                                      multiplier,\n",
    "                                                      ECALShape,\n",
    "                                                      HCALShape,\n",
    "                                                      ECALNorm,\n",
    "                                                      HCALNorm)\n",
    "\n",
    "Test_genC = MakeGenerator(ECAL, HCAL, TestSampleList, NTestSamples, LCDNormalization(Norms),\n",
    "                          Merge=False,\n",
    "                          batchsize=BatchSize,\n",
    "                          shapes=shapes,\n",
    "                          n_threads=n_threads,\n",
    "                          multiplier=multiplier,\n",
    "                          cachefile=\"/tmp/CaloDNN-Analysis.h5\")\n",
    "\n",
    "\n",
    "gen=Test_gen.DiskCacheGenerator(n_threads_cache)\n",
    "\n",
    "Data=gen.next()\n",
    "\n",
    "#print \"Loading Data into Memory:\"\n",
    "#Test_genC.PreloadData(n_threads_cache)\n",
    "#Test_X_ECAL, Test_X_HCAL, target, Test_Y = tuple(Test_genC.D)\n",
    "\n"
   ]
  }
 ],
 "metadata": {
  "kernelspec": {
   "display_name": "Python 2",
   "language": "python",
   "name": "python2"
  },
  "language_info": {
   "codemirror_mode": {
    "name": "ipython",
    "version": 2
   },
   "file_extension": ".py",
   "mimetype": "text/x-python",
   "name": "python",
   "nbconvert_exporter": "python",
   "pygments_lexer": "ipython2",
   "version": "2.7.10"
  }
 },
 "nbformat": 4,
 "nbformat_minor": 2
}
