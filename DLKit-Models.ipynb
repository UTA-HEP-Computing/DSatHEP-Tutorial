{
 "cells": [
  {
   "cell_type": "markdown",
   "metadata": {},
   "source": [
    "# DLKit Models\n",
    "\n",
    "DLKit is a lightweight framework for managing a large number of Keras models. It provides a wrapper for models, tools to efficiently represent and read data, and analysis functions. This notebook introduces the DLKit `ModelWrapper`.\n",
    "\n",
    "## DLModels\n",
    "To create a DLKit model, create a new class that inherits from `DLTools.ModelWrapper` and implement the constructor (`__init__`) and `Build` functions. For example:\n"
   ]
  },
  {
   "cell_type": "code",
   "execution_count": 1,
   "metadata": {},
   "outputs": [
    {
     "name": "stderr",
     "output_type": "stream",
     "text": [
      "Using Theano backend.\n"
     ]
    },
    {
     "name": "stdout",
     "output_type": "stream",
     "text": [
      "Couldn't import dot_parser, loading of dot files will not be possible.\n"
     ]
    }
   ],
   "source": [
    "from DLTools.ModelWrapper import ModelWrapper\n",
    "\n",
    "from keras.layers import Input, Dense\n",
    "from keras.models import Model\n",
    "\n",
    "class MLPClassification(ModelWrapper):\n",
    "    def __init__(self, Name,\n",
    "                 InputShape=(None,5),\n",
    "                 Widths=[10],\n",
    "                 Activation=\"relu\",\n",
    "                 Loss=\"categorical_crossentropy\",\n",
    "                 Optimizer=\"SGD\"):\n",
    "\n",
    "        super(MLPClassification, self).__init__(Name, Loss, Optimizer)\n",
    "\n",
    "        self.InputShape = self.MetaData[\"InputShape\"] = InputShape\n",
    "        self.Widths = self.MetaData[\"Widths\"] = Widths\n",
    "        self.Activation = self.MetaData[\"Activation\"] = Activation\n",
    "\n",
    "    def Build(self):\n",
    "        myInput = Input(shape=self.InputShape)\n",
    "        myModel = myInput\n",
    "\n",
    "        for i in range(0, len(self.Widths)-1):\n",
    "            myModel = Dense(self.Widths[i], activation=self.Activation)(myModel)\n",
    "\n",
    "        # Use softmax activation for final layer for classification\n",
    "        i+=1\n",
    "        myModel = Dense(self.Widths[i], activation=\"softmax\")(myModel)\n",
    "\n",
    "        self.Model = Model(inputs=myInput, outputs=myModel)\n"
   ]
  },
  {
   "cell_type": "markdown",
   "metadata": {},
   "source": [
    "Note that you specify any configurable parameters of you model in the constructor. Also, you can store information in the `MetaData` dictionary. This information, along with the model architecture and weights, will be saved when `ModelWrapper.Save()` is called and restored when `ModelWrapper.Load()` is called. This information will be stored in `TrainedModels/<Name>`, where `<Name>` is the name of the model you provide when you instantiate the model. For example:"
   ]
  },
  {
   "cell_type": "code",
   "execution_count": 2,
   "metadata": {},
   "outputs": [
    {
     "name": "stdout",
     "output_type": "stream",
     "text": [
      "_________________________________________________________________\n",
      "Layer (type)                 Output Shape              Param #   \n",
      "=================================================================\n",
      "input_1 (InputLayer)         (None, None, 10)          0         \n",
      "_________________________________________________________________\n",
      "dense_1 (Dense)              (None, None, 5)           55        \n",
      "_________________________________________________________________\n",
      "dense_2 (Dense)              (None, None, 10)          60        \n",
      "_________________________________________________________________\n",
      "dense_3 (Dense)              (None, None, 20)          220       \n",
      "_________________________________________________________________\n",
      "dense_4 (Dense)              (None, None, 4)           84        \n",
      "=================================================================\n",
      "Total params: 419.0\n",
      "Trainable params: 419.0\n",
      "Non-trainable params: 0.0\n",
      "_________________________________________________________________\n"
     ]
    }
   ],
   "source": [
    "# Instantiate a model which takes in 10 inputs per example, has hidden layers \n",
    "# of width 5, 10, and 20, and classifies into 4 classes.\n",
    "MyModel=MLPClassification(\"MyFirstModel\",InputShape=(None,10), Widths=[5,10,20,4] )\n",
    "\n",
    "# Now Build it\n",
    "MyModel.Build()\n",
    "\n",
    "# And Compile\n",
    "MyModel.Compile()\n",
    "\n",
    "# Get Summary from the Keras model\n",
    "MyModel.Model.summary()\n",
    "\n",
    "MyModel.Save()"
   ]
  },
  {
   "cell_type": "markdown",
   "metadata": {},
   "source": [
    "Note that `MyModel.Model` is the Keras model, which you can then use to fit or evaluate. You can see the saved model in the `TrainedModels` directory:"
   ]
  },
  {
   "cell_type": "code",
   "execution_count": 3,
   "metadata": {},
   "outputs": [
    {
     "name": "stdout",
     "output_type": "stream",
     "text": [
      "\u001b[0m\u001b[01;34mMyFirstModel\u001b[0m/  \u001b[01;34mMyFirstModel.1\u001b[0m/\n",
      "MetaData.pickle  Model.json  Weights.h5\n"
     ]
    }
   ],
   "source": [
    "%ls TrainedModels\n",
    "%ls TrainedModels/MyFirstModel"
   ]
  },
  {
   "cell_type": "markdown",
   "metadata": {},
   "source": [
    "You can load a model back:"
   ]
  },
  {
   "cell_type": "code",
   "execution_count": 6,
   "metadata": {},
   "outputs": [
    {
     "name": "stdout",
     "output_type": "stream",
     "text": [
      "{'Loss': 'categorical_crossentropy', 'Optimizer': None, 'Name': 'MyFirstModel', 'InputMetaData': [{'Loss': 'categorical_crossentropy', 'Optimizer': None, 'Name': 'MyFirstModel', 'InputMetaData': [], 'Widths': [5, 10, 20, 4], 'Activation': 'relu', 'InputShape': (None, 10), 'OutDir': 'TrainedModels/MyFirstModel'}], 'Widths': [5, 10, 20, 4], 'Activation': 'relu', 'InputDir': 'TrainedModels/MyFirstModel', 'InputShape': (None, 10), 'OutDir': 'TrainedModels/MyFirstModel.2'}\n"
     ]
    }
   ],
   "source": [
    "LoadedModel=ModelWrapper(\"MyFirstModel\")\n",
    "LoadedModel.Load()\n",
    "print LoadedModel.MetaData"
   ]
  },
  {
   "cell_type": "markdown",
   "metadata": {},
   "source": [
    "Note that by default, `Save()` does not overwrite existing models with the same name. Also note that `MetaData[\"InputMetaData\"]` is a list of all previous saves of the model. "
   ]
  }
 ],
 "metadata": {
  "kernelspec": {
   "display_name": "Python 2",
   "language": "python",
   "name": "python2"
  },
  "language_info": {
   "codemirror_mode": {
    "name": "ipython",
    "version": 2
   },
   "file_extension": ".py",
   "mimetype": "text/x-python",
   "name": "python",
   "nbconvert_exporter": "python",
   "pygments_lexer": "ipython2",
   "version": "2.7.10"
  }
 },
 "nbformat": 4,
 "nbformat_minor": 2
}
